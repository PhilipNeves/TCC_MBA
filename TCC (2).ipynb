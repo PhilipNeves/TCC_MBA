{
  "cells": [
    {
      "cell_type": "markdown",
      "metadata": {
        "id": "k_8Of28yrnDT"
      },
      "source": [
        "# 1. CONSIDERAÇÕES INICIAIS"
      ]
    },
    {
      "cell_type": "markdown",
      "source": [
        "Script para elaboração do TCC, conclusão do MBA em data science e analytics"
      ],
      "metadata": {
        "id": "mbykhRoGeADu"
      }
    },
    {
      "cell_type": "markdown",
      "metadata": {
        "id": "HIVeG49II91d"
      },
      "source": [
        "# 2. BIBLIOTECAS BÁSICAS\n",
        "\n"
      ]
    },
    {
      "cell_type": "code",
      "execution_count": null,
      "metadata": {
        "id": "A1erGXxVrjOh"
      },
      "outputs": [],
      "source": [
        "import pandas as pd\n",
        "import numpy as np\n",
        "import matplotlib.pyplot as plt\n",
        "import seaborn as sns\n",
        "from sklearn.metrics import classification_report\n",
        "from sklearn.metrics import accuracy_score, precision_score, recall_score, f1_score, mean_squared_error, roc_auc_score, roc_curve"
      ]
    },
    {
      "cell_type": "markdown",
      "metadata": {
        "id": "pWZ8J2SwJVr9"
      },
      "source": [
        "# 3. DATASET"
      ]
    },
    {
      "cell_type": "code",
      "execution_count": null,
      "metadata": {
        "colab": {
          "base_uri": "https://localhost:8080/",
          "height": 487
        },
        "id": "9pDxyRbnNjb0",
        "outputId": "a5ad69b6-21da-48ed-880c-cdc5d8115bae"
      },
      "outputs": [
        {
          "output_type": "execute_result",
          "data": {
            "text/plain": [
              "            Time         V1         V2        V3        V4        V5  \\\n",
              "0            0.0  -1.359807  -0.072781  2.536347  1.378155 -0.338321   \n",
              "1            0.0   1.191857   0.266151  0.166480  0.448154  0.060018   \n",
              "2            1.0  -1.358354  -1.340163  1.773209  0.379780 -0.503198   \n",
              "3            1.0  -0.966272  -0.185226  1.792993 -0.863291 -0.010309   \n",
              "4            2.0  -1.158233   0.877737  1.548718  0.403034 -0.407193   \n",
              "...          ...        ...        ...       ...       ...       ...   \n",
              "284802  172786.0 -11.881118  10.071785 -9.834783 -2.066656 -5.364473   \n",
              "284803  172787.0  -0.732789  -0.055080  2.035030 -0.738589  0.868229   \n",
              "284804  172788.0   1.919565  -0.301254 -3.249640 -0.557828  2.630515   \n",
              "284805  172788.0  -0.240440   0.530483  0.702510  0.689799 -0.377961   \n",
              "284806  172792.0  -0.533413  -0.189733  0.703337 -0.506271 -0.012546   \n",
              "\n",
              "              V6        V7        V8        V9  ...       V21       V22  \\\n",
              "0       0.462388  0.239599  0.098698  0.363787  ... -0.018307  0.277838   \n",
              "1      -0.082361 -0.078803  0.085102 -0.255425  ... -0.225775 -0.638672   \n",
              "2       1.800499  0.791461  0.247676 -1.514654  ...  0.247998  0.771679   \n",
              "3       1.247203  0.237609  0.377436 -1.387024  ... -0.108300  0.005274   \n",
              "4       0.095921  0.592941 -0.270533  0.817739  ... -0.009431  0.798278   \n",
              "...          ...       ...       ...       ...  ...       ...       ...   \n",
              "284802 -2.606837 -4.918215  7.305334  1.914428  ...  0.213454  0.111864   \n",
              "284803  1.058415  0.024330  0.294869  0.584800  ...  0.214205  0.924384   \n",
              "284804  3.031260 -0.296827  0.708417  0.432454  ...  0.232045  0.578229   \n",
              "284805  0.623708 -0.686180  0.679145  0.392087  ...  0.265245  0.800049   \n",
              "284806 -0.649617  1.577006 -0.414650  0.486180  ...  0.261057  0.643078   \n",
              "\n",
              "             V23       V24       V25       V26       V27       V28  Amount  \\\n",
              "0      -0.110474  0.066928  0.128539 -0.189115  0.133558 -0.021053  149.62   \n",
              "1       0.101288 -0.339846  0.167170  0.125895 -0.008983  0.014724    2.69   \n",
              "2       0.909412 -0.689281 -0.327642 -0.139097 -0.055353 -0.059752  378.66   \n",
              "3      -0.190321 -1.175575  0.647376 -0.221929  0.062723  0.061458  123.50   \n",
              "4      -0.137458  0.141267 -0.206010  0.502292  0.219422  0.215153   69.99   \n",
              "...          ...       ...       ...       ...       ...       ...     ...   \n",
              "284802  1.014480 -0.509348  1.436807  0.250034  0.943651  0.823731    0.77   \n",
              "284803  0.012463 -1.016226 -0.606624 -0.395255  0.068472 -0.053527   24.79   \n",
              "284804 -0.037501  0.640134  0.265745 -0.087371  0.004455 -0.026561   67.88   \n",
              "284805 -0.163298  0.123205 -0.569159  0.546668  0.108821  0.104533   10.00   \n",
              "284806  0.376777  0.008797 -0.473649 -0.818267 -0.002415  0.013649  217.00   \n",
              "\n",
              "        Class  \n",
              "0           0  \n",
              "1           0  \n",
              "2           0  \n",
              "3           0  \n",
              "4           0  \n",
              "...       ...  \n",
              "284802      0  \n",
              "284803      0  \n",
              "284804      0  \n",
              "284805      0  \n",
              "284806      0  \n",
              "\n",
              "[284807 rows x 31 columns]"
            ],
            "text/html": [
              "\n",
              "  <div id=\"df-948a2f29-9d80-4313-8014-ba05ffdf659d\">\n",
              "    <div class=\"colab-df-container\">\n",
              "      <div>\n",
              "<style scoped>\n",
              "    .dataframe tbody tr th:only-of-type {\n",
              "        vertical-align: middle;\n",
              "    }\n",
              "\n",
              "    .dataframe tbody tr th {\n",
              "        vertical-align: top;\n",
              "    }\n",
              "\n",
              "    .dataframe thead th {\n",
              "        text-align: right;\n",
              "    }\n",
              "</style>\n",
              "<table border=\"1\" class=\"dataframe\">\n",
              "  <thead>\n",
              "    <tr style=\"text-align: right;\">\n",
              "      <th></th>\n",
              "      <th>Time</th>\n",
              "      <th>V1</th>\n",
              "      <th>V2</th>\n",
              "      <th>V3</th>\n",
              "      <th>V4</th>\n",
              "      <th>V5</th>\n",
              "      <th>V6</th>\n",
              "      <th>V7</th>\n",
              "      <th>V8</th>\n",
              "      <th>V9</th>\n",
              "      <th>...</th>\n",
              "      <th>V21</th>\n",
              "      <th>V22</th>\n",
              "      <th>V23</th>\n",
              "      <th>V24</th>\n",
              "      <th>V25</th>\n",
              "      <th>V26</th>\n",
              "      <th>V27</th>\n",
              "      <th>V28</th>\n",
              "      <th>Amount</th>\n",
              "      <th>Class</th>\n",
              "    </tr>\n",
              "  </thead>\n",
              "  <tbody>\n",
              "    <tr>\n",
              "      <th>0</th>\n",
              "      <td>0.0</td>\n",
              "      <td>-1.359807</td>\n",
              "      <td>-0.072781</td>\n",
              "      <td>2.536347</td>\n",
              "      <td>1.378155</td>\n",
              "      <td>-0.338321</td>\n",
              "      <td>0.462388</td>\n",
              "      <td>0.239599</td>\n",
              "      <td>0.098698</td>\n",
              "      <td>0.363787</td>\n",
              "      <td>...</td>\n",
              "      <td>-0.018307</td>\n",
              "      <td>0.277838</td>\n",
              "      <td>-0.110474</td>\n",
              "      <td>0.066928</td>\n",
              "      <td>0.128539</td>\n",
              "      <td>-0.189115</td>\n",
              "      <td>0.133558</td>\n",
              "      <td>-0.021053</td>\n",
              "      <td>149.62</td>\n",
              "      <td>0</td>\n",
              "    </tr>\n",
              "    <tr>\n",
              "      <th>1</th>\n",
              "      <td>0.0</td>\n",
              "      <td>1.191857</td>\n",
              "      <td>0.266151</td>\n",
              "      <td>0.166480</td>\n",
              "      <td>0.448154</td>\n",
              "      <td>0.060018</td>\n",
              "      <td>-0.082361</td>\n",
              "      <td>-0.078803</td>\n",
              "      <td>0.085102</td>\n",
              "      <td>-0.255425</td>\n",
              "      <td>...</td>\n",
              "      <td>-0.225775</td>\n",
              "      <td>-0.638672</td>\n",
              "      <td>0.101288</td>\n",
              "      <td>-0.339846</td>\n",
              "      <td>0.167170</td>\n",
              "      <td>0.125895</td>\n",
              "      <td>-0.008983</td>\n",
              "      <td>0.014724</td>\n",
              "      <td>2.69</td>\n",
              "      <td>0</td>\n",
              "    </tr>\n",
              "    <tr>\n",
              "      <th>2</th>\n",
              "      <td>1.0</td>\n",
              "      <td>-1.358354</td>\n",
              "      <td>-1.340163</td>\n",
              "      <td>1.773209</td>\n",
              "      <td>0.379780</td>\n",
              "      <td>-0.503198</td>\n",
              "      <td>1.800499</td>\n",
              "      <td>0.791461</td>\n",
              "      <td>0.247676</td>\n",
              "      <td>-1.514654</td>\n",
              "      <td>...</td>\n",
              "      <td>0.247998</td>\n",
              "      <td>0.771679</td>\n",
              "      <td>0.909412</td>\n",
              "      <td>-0.689281</td>\n",
              "      <td>-0.327642</td>\n",
              "      <td>-0.139097</td>\n",
              "      <td>-0.055353</td>\n",
              "      <td>-0.059752</td>\n",
              "      <td>378.66</td>\n",
              "      <td>0</td>\n",
              "    </tr>\n",
              "    <tr>\n",
              "      <th>3</th>\n",
              "      <td>1.0</td>\n",
              "      <td>-0.966272</td>\n",
              "      <td>-0.185226</td>\n",
              "      <td>1.792993</td>\n",
              "      <td>-0.863291</td>\n",
              "      <td>-0.010309</td>\n",
              "      <td>1.247203</td>\n",
              "      <td>0.237609</td>\n",
              "      <td>0.377436</td>\n",
              "      <td>-1.387024</td>\n",
              "      <td>...</td>\n",
              "      <td>-0.108300</td>\n",
              "      <td>0.005274</td>\n",
              "      <td>-0.190321</td>\n",
              "      <td>-1.175575</td>\n",
              "      <td>0.647376</td>\n",
              "      <td>-0.221929</td>\n",
              "      <td>0.062723</td>\n",
              "      <td>0.061458</td>\n",
              "      <td>123.50</td>\n",
              "      <td>0</td>\n",
              "    </tr>\n",
              "    <tr>\n",
              "      <th>4</th>\n",
              "      <td>2.0</td>\n",
              "      <td>-1.158233</td>\n",
              "      <td>0.877737</td>\n",
              "      <td>1.548718</td>\n",
              "      <td>0.403034</td>\n",
              "      <td>-0.407193</td>\n",
              "      <td>0.095921</td>\n",
              "      <td>0.592941</td>\n",
              "      <td>-0.270533</td>\n",
              "      <td>0.817739</td>\n",
              "      <td>...</td>\n",
              "      <td>-0.009431</td>\n",
              "      <td>0.798278</td>\n",
              "      <td>-0.137458</td>\n",
              "      <td>0.141267</td>\n",
              "      <td>-0.206010</td>\n",
              "      <td>0.502292</td>\n",
              "      <td>0.219422</td>\n",
              "      <td>0.215153</td>\n",
              "      <td>69.99</td>\n",
              "      <td>0</td>\n",
              "    </tr>\n",
              "    <tr>\n",
              "      <th>...</th>\n",
              "      <td>...</td>\n",
              "      <td>...</td>\n",
              "      <td>...</td>\n",
              "      <td>...</td>\n",
              "      <td>...</td>\n",
              "      <td>...</td>\n",
              "      <td>...</td>\n",
              "      <td>...</td>\n",
              "      <td>...</td>\n",
              "      <td>...</td>\n",
              "      <td>...</td>\n",
              "      <td>...</td>\n",
              "      <td>...</td>\n",
              "      <td>...</td>\n",
              "      <td>...</td>\n",
              "      <td>...</td>\n",
              "      <td>...</td>\n",
              "      <td>...</td>\n",
              "      <td>...</td>\n",
              "      <td>...</td>\n",
              "      <td>...</td>\n",
              "    </tr>\n",
              "    <tr>\n",
              "      <th>284802</th>\n",
              "      <td>172786.0</td>\n",
              "      <td>-11.881118</td>\n",
              "      <td>10.071785</td>\n",
              "      <td>-9.834783</td>\n",
              "      <td>-2.066656</td>\n",
              "      <td>-5.364473</td>\n",
              "      <td>-2.606837</td>\n",
              "      <td>-4.918215</td>\n",
              "      <td>7.305334</td>\n",
              "      <td>1.914428</td>\n",
              "      <td>...</td>\n",
              "      <td>0.213454</td>\n",
              "      <td>0.111864</td>\n",
              "      <td>1.014480</td>\n",
              "      <td>-0.509348</td>\n",
              "      <td>1.436807</td>\n",
              "      <td>0.250034</td>\n",
              "      <td>0.943651</td>\n",
              "      <td>0.823731</td>\n",
              "      <td>0.77</td>\n",
              "      <td>0</td>\n",
              "    </tr>\n",
              "    <tr>\n",
              "      <th>284803</th>\n",
              "      <td>172787.0</td>\n",
              "      <td>-0.732789</td>\n",
              "      <td>-0.055080</td>\n",
              "      <td>2.035030</td>\n",
              "      <td>-0.738589</td>\n",
              "      <td>0.868229</td>\n",
              "      <td>1.058415</td>\n",
              "      <td>0.024330</td>\n",
              "      <td>0.294869</td>\n",
              "      <td>0.584800</td>\n",
              "      <td>...</td>\n",
              "      <td>0.214205</td>\n",
              "      <td>0.924384</td>\n",
              "      <td>0.012463</td>\n",
              "      <td>-1.016226</td>\n",
              "      <td>-0.606624</td>\n",
              "      <td>-0.395255</td>\n",
              "      <td>0.068472</td>\n",
              "      <td>-0.053527</td>\n",
              "      <td>24.79</td>\n",
              "      <td>0</td>\n",
              "    </tr>\n",
              "    <tr>\n",
              "      <th>284804</th>\n",
              "      <td>172788.0</td>\n",
              "      <td>1.919565</td>\n",
              "      <td>-0.301254</td>\n",
              "      <td>-3.249640</td>\n",
              "      <td>-0.557828</td>\n",
              "      <td>2.630515</td>\n",
              "      <td>3.031260</td>\n",
              "      <td>-0.296827</td>\n",
              "      <td>0.708417</td>\n",
              "      <td>0.432454</td>\n",
              "      <td>...</td>\n",
              "      <td>0.232045</td>\n",
              "      <td>0.578229</td>\n",
              "      <td>-0.037501</td>\n",
              "      <td>0.640134</td>\n",
              "      <td>0.265745</td>\n",
              "      <td>-0.087371</td>\n",
              "      <td>0.004455</td>\n",
              "      <td>-0.026561</td>\n",
              "      <td>67.88</td>\n",
              "      <td>0</td>\n",
              "    </tr>\n",
              "    <tr>\n",
              "      <th>284805</th>\n",
              "      <td>172788.0</td>\n",
              "      <td>-0.240440</td>\n",
              "      <td>0.530483</td>\n",
              "      <td>0.702510</td>\n",
              "      <td>0.689799</td>\n",
              "      <td>-0.377961</td>\n",
              "      <td>0.623708</td>\n",
              "      <td>-0.686180</td>\n",
              "      <td>0.679145</td>\n",
              "      <td>0.392087</td>\n",
              "      <td>...</td>\n",
              "      <td>0.265245</td>\n",
              "      <td>0.800049</td>\n",
              "      <td>-0.163298</td>\n",
              "      <td>0.123205</td>\n",
              "      <td>-0.569159</td>\n",
              "      <td>0.546668</td>\n",
              "      <td>0.108821</td>\n",
              "      <td>0.104533</td>\n",
              "      <td>10.00</td>\n",
              "      <td>0</td>\n",
              "    </tr>\n",
              "    <tr>\n",
              "      <th>284806</th>\n",
              "      <td>172792.0</td>\n",
              "      <td>-0.533413</td>\n",
              "      <td>-0.189733</td>\n",
              "      <td>0.703337</td>\n",
              "      <td>-0.506271</td>\n",
              "      <td>-0.012546</td>\n",
              "      <td>-0.649617</td>\n",
              "      <td>1.577006</td>\n",
              "      <td>-0.414650</td>\n",
              "      <td>0.486180</td>\n",
              "      <td>...</td>\n",
              "      <td>0.261057</td>\n",
              "      <td>0.643078</td>\n",
              "      <td>0.376777</td>\n",
              "      <td>0.008797</td>\n",
              "      <td>-0.473649</td>\n",
              "      <td>-0.818267</td>\n",
              "      <td>-0.002415</td>\n",
              "      <td>0.013649</td>\n",
              "      <td>217.00</td>\n",
              "      <td>0</td>\n",
              "    </tr>\n",
              "  </tbody>\n",
              "</table>\n",
              "<p>284807 rows × 31 columns</p>\n",
              "</div>\n",
              "      <button class=\"colab-df-convert\" onclick=\"convertToInteractive('df-948a2f29-9d80-4313-8014-ba05ffdf659d')\"\n",
              "              title=\"Convert this dataframe to an interactive table.\"\n",
              "              style=\"display:none;\">\n",
              "        \n",
              "  <svg xmlns=\"http://www.w3.org/2000/svg\" height=\"24px\"viewBox=\"0 0 24 24\"\n",
              "       width=\"24px\">\n",
              "    <path d=\"M0 0h24v24H0V0z\" fill=\"none\"/>\n",
              "    <path d=\"M18.56 5.44l.94 2.06.94-2.06 2.06-.94-2.06-.94-.94-2.06-.94 2.06-2.06.94zm-11 1L8.5 8.5l.94-2.06 2.06-.94-2.06-.94L8.5 2.5l-.94 2.06-2.06.94zm10 10l.94 2.06.94-2.06 2.06-.94-2.06-.94-.94-2.06-.94 2.06-2.06.94z\"/><path d=\"M17.41 7.96l-1.37-1.37c-.4-.4-.92-.59-1.43-.59-.52 0-1.04.2-1.43.59L10.3 9.45l-7.72 7.72c-.78.78-.78 2.05 0 2.83L4 21.41c.39.39.9.59 1.41.59.51 0 1.02-.2 1.41-.59l7.78-7.78 2.81-2.81c.8-.78.8-2.07 0-2.86zM5.41 20L4 18.59l7.72-7.72 1.47 1.35L5.41 20z\"/>\n",
              "  </svg>\n",
              "      </button>\n",
              "      \n",
              "  <style>\n",
              "    .colab-df-container {\n",
              "      display:flex;\n",
              "      flex-wrap:wrap;\n",
              "      gap: 12px;\n",
              "    }\n",
              "\n",
              "    .colab-df-convert {\n",
              "      background-color: #E8F0FE;\n",
              "      border: none;\n",
              "      border-radius: 50%;\n",
              "      cursor: pointer;\n",
              "      display: none;\n",
              "      fill: #1967D2;\n",
              "      height: 32px;\n",
              "      padding: 0 0 0 0;\n",
              "      width: 32px;\n",
              "    }\n",
              "\n",
              "    .colab-df-convert:hover {\n",
              "      background-color: #E2EBFA;\n",
              "      box-shadow: 0px 1px 2px rgba(60, 64, 67, 0.3), 0px 1px 3px 1px rgba(60, 64, 67, 0.15);\n",
              "      fill: #174EA6;\n",
              "    }\n",
              "\n",
              "    [theme=dark] .colab-df-convert {\n",
              "      background-color: #3B4455;\n",
              "      fill: #D2E3FC;\n",
              "    }\n",
              "\n",
              "    [theme=dark] .colab-df-convert:hover {\n",
              "      background-color: #434B5C;\n",
              "      box-shadow: 0px 1px 3px 1px rgba(0, 0, 0, 0.15);\n",
              "      filter: drop-shadow(0px 1px 2px rgba(0, 0, 0, 0.3));\n",
              "      fill: #FFFFFF;\n",
              "    }\n",
              "  </style>\n",
              "\n",
              "      <script>\n",
              "        const buttonEl =\n",
              "          document.querySelector('#df-948a2f29-9d80-4313-8014-ba05ffdf659d button.colab-df-convert');\n",
              "        buttonEl.style.display =\n",
              "          google.colab.kernel.accessAllowed ? 'block' : 'none';\n",
              "\n",
              "        async function convertToInteractive(key) {\n",
              "          const element = document.querySelector('#df-948a2f29-9d80-4313-8014-ba05ffdf659d');\n",
              "          const dataTable =\n",
              "            await google.colab.kernel.invokeFunction('convertToInteractive',\n",
              "                                                     [key], {});\n",
              "          if (!dataTable) return;\n",
              "\n",
              "          const docLinkHtml = 'Like what you see? Visit the ' +\n",
              "            '<a target=\"_blank\" href=https://colab.research.google.com/notebooks/data_table.ipynb>data table notebook</a>'\n",
              "            + ' to learn more about interactive tables.';\n",
              "          element.innerHTML = '';\n",
              "          dataTable['output_type'] = 'display_data';\n",
              "          await google.colab.output.renderOutput(dataTable, element);\n",
              "          const docLink = document.createElement('div');\n",
              "          docLink.innerHTML = docLinkHtml;\n",
              "          element.appendChild(docLink);\n",
              "        }\n",
              "      </script>\n",
              "    </div>\n",
              "  </div>\n",
              "  "
            ]
          },
          "metadata": {},
          "execution_count": 46
        }
      ],
      "source": [
        "#criação da base de dados\n",
        "dataset = pd.read_csv('/content/creditcard.csv')\n",
        "dataset"
      ]
    },
    {
      "cell_type": "markdown",
      "metadata": {
        "id": "bwSmtPP4U3_K"
      },
      "source": [
        "# 4. ANÁLISE EXPLORATÓRIA DE DADOS"
      ]
    },
    {
      "cell_type": "code",
      "execution_count": null,
      "metadata": {
        "colab": {
          "base_uri": "https://localhost:8080/",
          "height": 299
        },
        "id": "4ZIb7WapRkSi",
        "outputId": "5f901fbd-09dd-428f-8bb6-02dadfc82e86"
      },
      "outputs": [
        {
          "output_type": "execute_result",
          "data": {
            "text/plain": [
              "   Time        V1        V2        V3        V4        V5        V6        V7  \\\n",
              "0   0.0 -1.359807 -0.072781  2.536347  1.378155 -0.338321  0.462388  0.239599   \n",
              "1   0.0  1.191857  0.266151  0.166480  0.448154  0.060018 -0.082361 -0.078803   \n",
              "2   1.0 -1.358354 -1.340163  1.773209  0.379780 -0.503198  1.800499  0.791461   \n",
              "3   1.0 -0.966272 -0.185226  1.792993 -0.863291 -0.010309  1.247203  0.237609   \n",
              "4   2.0 -1.158233  0.877737  1.548718  0.403034 -0.407193  0.095921  0.592941   \n",
              "\n",
              "         V8        V9  ...       V21       V22       V23       V24       V25  \\\n",
              "0  0.098698  0.363787  ... -0.018307  0.277838 -0.110474  0.066928  0.128539   \n",
              "1  0.085102 -0.255425  ... -0.225775 -0.638672  0.101288 -0.339846  0.167170   \n",
              "2  0.247676 -1.514654  ...  0.247998  0.771679  0.909412 -0.689281 -0.327642   \n",
              "3  0.377436 -1.387024  ... -0.108300  0.005274 -0.190321 -1.175575  0.647376   \n",
              "4 -0.270533  0.817739  ... -0.009431  0.798278 -0.137458  0.141267 -0.206010   \n",
              "\n",
              "        V26       V27       V28  Amount  Class  \n",
              "0 -0.189115  0.133558 -0.021053  149.62      0  \n",
              "1  0.125895 -0.008983  0.014724    2.69      0  \n",
              "2 -0.139097 -0.055353 -0.059752  378.66      0  \n",
              "3 -0.221929  0.062723  0.061458  123.50      0  \n",
              "4  0.502292  0.219422  0.215153   69.99      0  \n",
              "\n",
              "[5 rows x 31 columns]"
            ],
            "text/html": [
              "\n",
              "  <div id=\"df-99746030-928f-4033-820e-0e340b6a1d9e\">\n",
              "    <div class=\"colab-df-container\">\n",
              "      <div>\n",
              "<style scoped>\n",
              "    .dataframe tbody tr th:only-of-type {\n",
              "        vertical-align: middle;\n",
              "    }\n",
              "\n",
              "    .dataframe tbody tr th {\n",
              "        vertical-align: top;\n",
              "    }\n",
              "\n",
              "    .dataframe thead th {\n",
              "        text-align: right;\n",
              "    }\n",
              "</style>\n",
              "<table border=\"1\" class=\"dataframe\">\n",
              "  <thead>\n",
              "    <tr style=\"text-align: right;\">\n",
              "      <th></th>\n",
              "      <th>Time</th>\n",
              "      <th>V1</th>\n",
              "      <th>V2</th>\n",
              "      <th>V3</th>\n",
              "      <th>V4</th>\n",
              "      <th>V5</th>\n",
              "      <th>V6</th>\n",
              "      <th>V7</th>\n",
              "      <th>V8</th>\n",
              "      <th>V9</th>\n",
              "      <th>...</th>\n",
              "      <th>V21</th>\n",
              "      <th>V22</th>\n",
              "      <th>V23</th>\n",
              "      <th>V24</th>\n",
              "      <th>V25</th>\n",
              "      <th>V26</th>\n",
              "      <th>V27</th>\n",
              "      <th>V28</th>\n",
              "      <th>Amount</th>\n",
              "      <th>Class</th>\n",
              "    </tr>\n",
              "  </thead>\n",
              "  <tbody>\n",
              "    <tr>\n",
              "      <th>0</th>\n",
              "      <td>0.0</td>\n",
              "      <td>-1.359807</td>\n",
              "      <td>-0.072781</td>\n",
              "      <td>2.536347</td>\n",
              "      <td>1.378155</td>\n",
              "      <td>-0.338321</td>\n",
              "      <td>0.462388</td>\n",
              "      <td>0.239599</td>\n",
              "      <td>0.098698</td>\n",
              "      <td>0.363787</td>\n",
              "      <td>...</td>\n",
              "      <td>-0.018307</td>\n",
              "      <td>0.277838</td>\n",
              "      <td>-0.110474</td>\n",
              "      <td>0.066928</td>\n",
              "      <td>0.128539</td>\n",
              "      <td>-0.189115</td>\n",
              "      <td>0.133558</td>\n",
              "      <td>-0.021053</td>\n",
              "      <td>149.62</td>\n",
              "      <td>0</td>\n",
              "    </tr>\n",
              "    <tr>\n",
              "      <th>1</th>\n",
              "      <td>0.0</td>\n",
              "      <td>1.191857</td>\n",
              "      <td>0.266151</td>\n",
              "      <td>0.166480</td>\n",
              "      <td>0.448154</td>\n",
              "      <td>0.060018</td>\n",
              "      <td>-0.082361</td>\n",
              "      <td>-0.078803</td>\n",
              "      <td>0.085102</td>\n",
              "      <td>-0.255425</td>\n",
              "      <td>...</td>\n",
              "      <td>-0.225775</td>\n",
              "      <td>-0.638672</td>\n",
              "      <td>0.101288</td>\n",
              "      <td>-0.339846</td>\n",
              "      <td>0.167170</td>\n",
              "      <td>0.125895</td>\n",
              "      <td>-0.008983</td>\n",
              "      <td>0.014724</td>\n",
              "      <td>2.69</td>\n",
              "      <td>0</td>\n",
              "    </tr>\n",
              "    <tr>\n",
              "      <th>2</th>\n",
              "      <td>1.0</td>\n",
              "      <td>-1.358354</td>\n",
              "      <td>-1.340163</td>\n",
              "      <td>1.773209</td>\n",
              "      <td>0.379780</td>\n",
              "      <td>-0.503198</td>\n",
              "      <td>1.800499</td>\n",
              "      <td>0.791461</td>\n",
              "      <td>0.247676</td>\n",
              "      <td>-1.514654</td>\n",
              "      <td>...</td>\n",
              "      <td>0.247998</td>\n",
              "      <td>0.771679</td>\n",
              "      <td>0.909412</td>\n",
              "      <td>-0.689281</td>\n",
              "      <td>-0.327642</td>\n",
              "      <td>-0.139097</td>\n",
              "      <td>-0.055353</td>\n",
              "      <td>-0.059752</td>\n",
              "      <td>378.66</td>\n",
              "      <td>0</td>\n",
              "    </tr>\n",
              "    <tr>\n",
              "      <th>3</th>\n",
              "      <td>1.0</td>\n",
              "      <td>-0.966272</td>\n",
              "      <td>-0.185226</td>\n",
              "      <td>1.792993</td>\n",
              "      <td>-0.863291</td>\n",
              "      <td>-0.010309</td>\n",
              "      <td>1.247203</td>\n",
              "      <td>0.237609</td>\n",
              "      <td>0.377436</td>\n",
              "      <td>-1.387024</td>\n",
              "      <td>...</td>\n",
              "      <td>-0.108300</td>\n",
              "      <td>0.005274</td>\n",
              "      <td>-0.190321</td>\n",
              "      <td>-1.175575</td>\n",
              "      <td>0.647376</td>\n",
              "      <td>-0.221929</td>\n",
              "      <td>0.062723</td>\n",
              "      <td>0.061458</td>\n",
              "      <td>123.50</td>\n",
              "      <td>0</td>\n",
              "    </tr>\n",
              "    <tr>\n",
              "      <th>4</th>\n",
              "      <td>2.0</td>\n",
              "      <td>-1.158233</td>\n",
              "      <td>0.877737</td>\n",
              "      <td>1.548718</td>\n",
              "      <td>0.403034</td>\n",
              "      <td>-0.407193</td>\n",
              "      <td>0.095921</td>\n",
              "      <td>0.592941</td>\n",
              "      <td>-0.270533</td>\n",
              "      <td>0.817739</td>\n",
              "      <td>...</td>\n",
              "      <td>-0.009431</td>\n",
              "      <td>0.798278</td>\n",
              "      <td>-0.137458</td>\n",
              "      <td>0.141267</td>\n",
              "      <td>-0.206010</td>\n",
              "      <td>0.502292</td>\n",
              "      <td>0.219422</td>\n",
              "      <td>0.215153</td>\n",
              "      <td>69.99</td>\n",
              "      <td>0</td>\n",
              "    </tr>\n",
              "  </tbody>\n",
              "</table>\n",
              "<p>5 rows × 31 columns</p>\n",
              "</div>\n",
              "      <button class=\"colab-df-convert\" onclick=\"convertToInteractive('df-99746030-928f-4033-820e-0e340b6a1d9e')\"\n",
              "              title=\"Convert this dataframe to an interactive table.\"\n",
              "              style=\"display:none;\">\n",
              "        \n",
              "  <svg xmlns=\"http://www.w3.org/2000/svg\" height=\"24px\"viewBox=\"0 0 24 24\"\n",
              "       width=\"24px\">\n",
              "    <path d=\"M0 0h24v24H0V0z\" fill=\"none\"/>\n",
              "    <path d=\"M18.56 5.44l.94 2.06.94-2.06 2.06-.94-2.06-.94-.94-2.06-.94 2.06-2.06.94zm-11 1L8.5 8.5l.94-2.06 2.06-.94-2.06-.94L8.5 2.5l-.94 2.06-2.06.94zm10 10l.94 2.06.94-2.06 2.06-.94-2.06-.94-.94-2.06-.94 2.06-2.06.94z\"/><path d=\"M17.41 7.96l-1.37-1.37c-.4-.4-.92-.59-1.43-.59-.52 0-1.04.2-1.43.59L10.3 9.45l-7.72 7.72c-.78.78-.78 2.05 0 2.83L4 21.41c.39.39.9.59 1.41.59.51 0 1.02-.2 1.41-.59l7.78-7.78 2.81-2.81c.8-.78.8-2.07 0-2.86zM5.41 20L4 18.59l7.72-7.72 1.47 1.35L5.41 20z\"/>\n",
              "  </svg>\n",
              "      </button>\n",
              "      \n",
              "  <style>\n",
              "    .colab-df-container {\n",
              "      display:flex;\n",
              "      flex-wrap:wrap;\n",
              "      gap: 12px;\n",
              "    }\n",
              "\n",
              "    .colab-df-convert {\n",
              "      background-color: #E8F0FE;\n",
              "      border: none;\n",
              "      border-radius: 50%;\n",
              "      cursor: pointer;\n",
              "      display: none;\n",
              "      fill: #1967D2;\n",
              "      height: 32px;\n",
              "      padding: 0 0 0 0;\n",
              "      width: 32px;\n",
              "    }\n",
              "\n",
              "    .colab-df-convert:hover {\n",
              "      background-color: #E2EBFA;\n",
              "      box-shadow: 0px 1px 2px rgba(60, 64, 67, 0.3), 0px 1px 3px 1px rgba(60, 64, 67, 0.15);\n",
              "      fill: #174EA6;\n",
              "    }\n",
              "\n",
              "    [theme=dark] .colab-df-convert {\n",
              "      background-color: #3B4455;\n",
              "      fill: #D2E3FC;\n",
              "    }\n",
              "\n",
              "    [theme=dark] .colab-df-convert:hover {\n",
              "      background-color: #434B5C;\n",
              "      box-shadow: 0px 1px 3px 1px rgba(0, 0, 0, 0.15);\n",
              "      filter: drop-shadow(0px 1px 2px rgba(0, 0, 0, 0.3));\n",
              "      fill: #FFFFFF;\n",
              "    }\n",
              "  </style>\n",
              "\n",
              "      <script>\n",
              "        const buttonEl =\n",
              "          document.querySelector('#df-99746030-928f-4033-820e-0e340b6a1d9e button.colab-df-convert');\n",
              "        buttonEl.style.display =\n",
              "          google.colab.kernel.accessAllowed ? 'block' : 'none';\n",
              "\n",
              "        async function convertToInteractive(key) {\n",
              "          const element = document.querySelector('#df-99746030-928f-4033-820e-0e340b6a1d9e');\n",
              "          const dataTable =\n",
              "            await google.colab.kernel.invokeFunction('convertToInteractive',\n",
              "                                                     [key], {});\n",
              "          if (!dataTable) return;\n",
              "\n",
              "          const docLinkHtml = 'Like what you see? Visit the ' +\n",
              "            '<a target=\"_blank\" href=https://colab.research.google.com/notebooks/data_table.ipynb>data table notebook</a>'\n",
              "            + ' to learn more about interactive tables.';\n",
              "          element.innerHTML = '';\n",
              "          dataTable['output_type'] = 'display_data';\n",
              "          await google.colab.output.renderOutput(dataTable, element);\n",
              "          const docLink = document.createElement('div');\n",
              "          docLink.innerHTML = docLinkHtml;\n",
              "          element.appendChild(docLink);\n",
              "        }\n",
              "      </script>\n",
              "    </div>\n",
              "  </div>\n",
              "  "
            ]
          },
          "metadata": {},
          "execution_count": 3
        }
      ],
      "source": [
        "# visualização das primeiras abservações\n",
        "dataset.head()"
      ]
    },
    {
      "cell_type": "code",
      "execution_count": null,
      "metadata": {
        "colab": {
          "base_uri": "https://localhost:8080/",
          "height": 299
        },
        "id": "Mjac5KLtRwth",
        "outputId": "728f5eb3-5bb7-4b86-cc8d-75ade5ca7d0d"
      },
      "outputs": [
        {
          "data": {
            "text/html": [
              "\n",
              "  <div id=\"df-447cef5a-1c60-4162-800e-17038d45151c\">\n",
              "    <div class=\"colab-df-container\">\n",
              "      <div>\n",
              "<style scoped>\n",
              "    .dataframe tbody tr th:only-of-type {\n",
              "        vertical-align: middle;\n",
              "    }\n",
              "\n",
              "    .dataframe tbody tr th {\n",
              "        vertical-align: top;\n",
              "    }\n",
              "\n",
              "    .dataframe thead th {\n",
              "        text-align: right;\n",
              "    }\n",
              "</style>\n",
              "<table border=\"1\" class=\"dataframe\">\n",
              "  <thead>\n",
              "    <tr style=\"text-align: right;\">\n",
              "      <th></th>\n",
              "      <th>Time</th>\n",
              "      <th>V1</th>\n",
              "      <th>V2</th>\n",
              "      <th>V3</th>\n",
              "      <th>V4</th>\n",
              "      <th>V5</th>\n",
              "      <th>V6</th>\n",
              "      <th>V7</th>\n",
              "      <th>V8</th>\n",
              "      <th>V9</th>\n",
              "      <th>...</th>\n",
              "      <th>V21</th>\n",
              "      <th>V22</th>\n",
              "      <th>V23</th>\n",
              "      <th>V24</th>\n",
              "      <th>V25</th>\n",
              "      <th>V26</th>\n",
              "      <th>V27</th>\n",
              "      <th>V28</th>\n",
              "      <th>Amount</th>\n",
              "      <th>Class</th>\n",
              "    </tr>\n",
              "  </thead>\n",
              "  <tbody>\n",
              "    <tr>\n",
              "      <th>284802</th>\n",
              "      <td>172786.0</td>\n",
              "      <td>-11.881118</td>\n",
              "      <td>10.071785</td>\n",
              "      <td>-9.834783</td>\n",
              "      <td>-2.066656</td>\n",
              "      <td>-5.364473</td>\n",
              "      <td>-2.606837</td>\n",
              "      <td>-4.918215</td>\n",
              "      <td>7.305334</td>\n",
              "      <td>1.914428</td>\n",
              "      <td>...</td>\n",
              "      <td>0.213454</td>\n",
              "      <td>0.111864</td>\n",
              "      <td>1.014480</td>\n",
              "      <td>-0.509348</td>\n",
              "      <td>1.436807</td>\n",
              "      <td>0.250034</td>\n",
              "      <td>0.943651</td>\n",
              "      <td>0.823731</td>\n",
              "      <td>0.77</td>\n",
              "      <td>0</td>\n",
              "    </tr>\n",
              "    <tr>\n",
              "      <th>284803</th>\n",
              "      <td>172787.0</td>\n",
              "      <td>-0.732789</td>\n",
              "      <td>-0.055080</td>\n",
              "      <td>2.035030</td>\n",
              "      <td>-0.738589</td>\n",
              "      <td>0.868229</td>\n",
              "      <td>1.058415</td>\n",
              "      <td>0.024330</td>\n",
              "      <td>0.294869</td>\n",
              "      <td>0.584800</td>\n",
              "      <td>...</td>\n",
              "      <td>0.214205</td>\n",
              "      <td>0.924384</td>\n",
              "      <td>0.012463</td>\n",
              "      <td>-1.016226</td>\n",
              "      <td>-0.606624</td>\n",
              "      <td>-0.395255</td>\n",
              "      <td>0.068472</td>\n",
              "      <td>-0.053527</td>\n",
              "      <td>24.79</td>\n",
              "      <td>0</td>\n",
              "    </tr>\n",
              "    <tr>\n",
              "      <th>284804</th>\n",
              "      <td>172788.0</td>\n",
              "      <td>1.919565</td>\n",
              "      <td>-0.301254</td>\n",
              "      <td>-3.249640</td>\n",
              "      <td>-0.557828</td>\n",
              "      <td>2.630515</td>\n",
              "      <td>3.031260</td>\n",
              "      <td>-0.296827</td>\n",
              "      <td>0.708417</td>\n",
              "      <td>0.432454</td>\n",
              "      <td>...</td>\n",
              "      <td>0.232045</td>\n",
              "      <td>0.578229</td>\n",
              "      <td>-0.037501</td>\n",
              "      <td>0.640134</td>\n",
              "      <td>0.265745</td>\n",
              "      <td>-0.087371</td>\n",
              "      <td>0.004455</td>\n",
              "      <td>-0.026561</td>\n",
              "      <td>67.88</td>\n",
              "      <td>0</td>\n",
              "    </tr>\n",
              "    <tr>\n",
              "      <th>284805</th>\n",
              "      <td>172788.0</td>\n",
              "      <td>-0.240440</td>\n",
              "      <td>0.530483</td>\n",
              "      <td>0.702510</td>\n",
              "      <td>0.689799</td>\n",
              "      <td>-0.377961</td>\n",
              "      <td>0.623708</td>\n",
              "      <td>-0.686180</td>\n",
              "      <td>0.679145</td>\n",
              "      <td>0.392087</td>\n",
              "      <td>...</td>\n",
              "      <td>0.265245</td>\n",
              "      <td>0.800049</td>\n",
              "      <td>-0.163298</td>\n",
              "      <td>0.123205</td>\n",
              "      <td>-0.569159</td>\n",
              "      <td>0.546668</td>\n",
              "      <td>0.108821</td>\n",
              "      <td>0.104533</td>\n",
              "      <td>10.00</td>\n",
              "      <td>0</td>\n",
              "    </tr>\n",
              "    <tr>\n",
              "      <th>284806</th>\n",
              "      <td>172792.0</td>\n",
              "      <td>-0.533413</td>\n",
              "      <td>-0.189733</td>\n",
              "      <td>0.703337</td>\n",
              "      <td>-0.506271</td>\n",
              "      <td>-0.012546</td>\n",
              "      <td>-0.649617</td>\n",
              "      <td>1.577006</td>\n",
              "      <td>-0.414650</td>\n",
              "      <td>0.486180</td>\n",
              "      <td>...</td>\n",
              "      <td>0.261057</td>\n",
              "      <td>0.643078</td>\n",
              "      <td>0.376777</td>\n",
              "      <td>0.008797</td>\n",
              "      <td>-0.473649</td>\n",
              "      <td>-0.818267</td>\n",
              "      <td>-0.002415</td>\n",
              "      <td>0.013649</td>\n",
              "      <td>217.00</td>\n",
              "      <td>0</td>\n",
              "    </tr>\n",
              "  </tbody>\n",
              "</table>\n",
              "<p>5 rows × 31 columns</p>\n",
              "</div>\n",
              "      <button class=\"colab-df-convert\" onclick=\"convertToInteractive('df-447cef5a-1c60-4162-800e-17038d45151c')\"\n",
              "              title=\"Convert this dataframe to an interactive table.\"\n",
              "              style=\"display:none;\">\n",
              "        \n",
              "  <svg xmlns=\"http://www.w3.org/2000/svg\" height=\"24px\"viewBox=\"0 0 24 24\"\n",
              "       width=\"24px\">\n",
              "    <path d=\"M0 0h24v24H0V0z\" fill=\"none\"/>\n",
              "    <path d=\"M18.56 5.44l.94 2.06.94-2.06 2.06-.94-2.06-.94-.94-2.06-.94 2.06-2.06.94zm-11 1L8.5 8.5l.94-2.06 2.06-.94-2.06-.94L8.5 2.5l-.94 2.06-2.06.94zm10 10l.94 2.06.94-2.06 2.06-.94-2.06-.94-.94-2.06-.94 2.06-2.06.94z\"/><path d=\"M17.41 7.96l-1.37-1.37c-.4-.4-.92-.59-1.43-.59-.52 0-1.04.2-1.43.59L10.3 9.45l-7.72 7.72c-.78.78-.78 2.05 0 2.83L4 21.41c.39.39.9.59 1.41.59.51 0 1.02-.2 1.41-.59l7.78-7.78 2.81-2.81c.8-.78.8-2.07 0-2.86zM5.41 20L4 18.59l7.72-7.72 1.47 1.35L5.41 20z\"/>\n",
              "  </svg>\n",
              "      </button>\n",
              "      \n",
              "  <style>\n",
              "    .colab-df-container {\n",
              "      display:flex;\n",
              "      flex-wrap:wrap;\n",
              "      gap: 12px;\n",
              "    }\n",
              "\n",
              "    .colab-df-convert {\n",
              "      background-color: #E8F0FE;\n",
              "      border: none;\n",
              "      border-radius: 50%;\n",
              "      cursor: pointer;\n",
              "      display: none;\n",
              "      fill: #1967D2;\n",
              "      height: 32px;\n",
              "      padding: 0 0 0 0;\n",
              "      width: 32px;\n",
              "    }\n",
              "\n",
              "    .colab-df-convert:hover {\n",
              "      background-color: #E2EBFA;\n",
              "      box-shadow: 0px 1px 2px rgba(60, 64, 67, 0.3), 0px 1px 3px 1px rgba(60, 64, 67, 0.15);\n",
              "      fill: #174EA6;\n",
              "    }\n",
              "\n",
              "    [theme=dark] .colab-df-convert {\n",
              "      background-color: #3B4455;\n",
              "      fill: #D2E3FC;\n",
              "    }\n",
              "\n",
              "    [theme=dark] .colab-df-convert:hover {\n",
              "      background-color: #434B5C;\n",
              "      box-shadow: 0px 1px 3px 1px rgba(0, 0, 0, 0.15);\n",
              "      filter: drop-shadow(0px 1px 2px rgba(0, 0, 0, 0.3));\n",
              "      fill: #FFFFFF;\n",
              "    }\n",
              "  </style>\n",
              "\n",
              "      <script>\n",
              "        const buttonEl =\n",
              "          document.querySelector('#df-447cef5a-1c60-4162-800e-17038d45151c button.colab-df-convert');\n",
              "        buttonEl.style.display =\n",
              "          google.colab.kernel.accessAllowed ? 'block' : 'none';\n",
              "\n",
              "        async function convertToInteractive(key) {\n",
              "          const element = document.querySelector('#df-447cef5a-1c60-4162-800e-17038d45151c');\n",
              "          const dataTable =\n",
              "            await google.colab.kernel.invokeFunction('convertToInteractive',\n",
              "                                                     [key], {});\n",
              "          if (!dataTable) return;\n",
              "\n",
              "          const docLinkHtml = 'Like what you see? Visit the ' +\n",
              "            '<a target=\"_blank\" href=https://colab.research.google.com/notebooks/data_table.ipynb>data table notebook</a>'\n",
              "            + ' to learn more about interactive tables.';\n",
              "          element.innerHTML = '';\n",
              "          dataTable['output_type'] = 'display_data';\n",
              "          await google.colab.output.renderOutput(dataTable, element);\n",
              "          const docLink = document.createElement('div');\n",
              "          docLink.innerHTML = docLinkHtml;\n",
              "          element.appendChild(docLink);\n",
              "        }\n",
              "      </script>\n",
              "    </div>\n",
              "  </div>\n",
              "  "
            ],
            "text/plain": [
              "            Time         V1         V2        V3        V4        V5  \\\n",
              "284802  172786.0 -11.881118  10.071785 -9.834783 -2.066656 -5.364473   \n",
              "284803  172787.0  -0.732789  -0.055080  2.035030 -0.738589  0.868229   \n",
              "284804  172788.0   1.919565  -0.301254 -3.249640 -0.557828  2.630515   \n",
              "284805  172788.0  -0.240440   0.530483  0.702510  0.689799 -0.377961   \n",
              "284806  172792.0  -0.533413  -0.189733  0.703337 -0.506271 -0.012546   \n",
              "\n",
              "              V6        V7        V8        V9  ...       V21       V22  \\\n",
              "284802 -2.606837 -4.918215  7.305334  1.914428  ...  0.213454  0.111864   \n",
              "284803  1.058415  0.024330  0.294869  0.584800  ...  0.214205  0.924384   \n",
              "284804  3.031260 -0.296827  0.708417  0.432454  ...  0.232045  0.578229   \n",
              "284805  0.623708 -0.686180  0.679145  0.392087  ...  0.265245  0.800049   \n",
              "284806 -0.649617  1.577006 -0.414650  0.486180  ...  0.261057  0.643078   \n",
              "\n",
              "             V23       V24       V25       V26       V27       V28  Amount  \\\n",
              "284802  1.014480 -0.509348  1.436807  0.250034  0.943651  0.823731    0.77   \n",
              "284803  0.012463 -1.016226 -0.606624 -0.395255  0.068472 -0.053527   24.79   \n",
              "284804 -0.037501  0.640134  0.265745 -0.087371  0.004455 -0.026561   67.88   \n",
              "284805 -0.163298  0.123205 -0.569159  0.546668  0.108821  0.104533   10.00   \n",
              "284806  0.376777  0.008797 -0.473649 -0.818267 -0.002415  0.013649  217.00   \n",
              "\n",
              "        Class  \n",
              "284802      0  \n",
              "284803      0  \n",
              "284804      0  \n",
              "284805      0  \n",
              "284806      0  \n",
              "\n",
              "[5 rows x 31 columns]"
            ]
          },
          "execution_count": 274,
          "metadata": {},
          "output_type": "execute_result"
        }
      ],
      "source": [
        "#visualização das últimas observações\n",
        "dataset.tail()"
      ]
    },
    {
      "cell_type": "code",
      "execution_count": null,
      "metadata": {
        "colab": {
          "base_uri": "https://localhost:8080/"
        },
        "id": "8hHiVQYvR7Ag",
        "outputId": "598d757e-bbe6-48a4-f123-721e8b1deb2e"
      },
      "outputs": [
        {
          "output_type": "execute_result",
          "data": {
            "text/plain": [
              "(284807, 31)"
            ]
          },
          "metadata": {},
          "execution_count": 47
        }
      ],
      "source": [
        "# tamanho da base\n",
        "dataset.shape"
      ]
    },
    {
      "cell_type": "code",
      "execution_count": null,
      "metadata": {
        "colab": {
          "base_uri": "https://localhost:8080/"
        },
        "id": "lhBZDW18SJbi",
        "outputId": "f7db5771-0678-4363-b19e-81ec40c89c67"
      },
      "outputs": [
        {
          "name": "stdout",
          "output_type": "stream",
          "text": [
            "<class 'pandas.core.frame.DataFrame'>\n",
            "RangeIndex: 284807 entries, 0 to 284806\n",
            "Data columns (total 31 columns):\n",
            " #   Column  Non-Null Count   Dtype  \n",
            "---  ------  --------------   -----  \n",
            " 0   Time    284807 non-null  float64\n",
            " 1   V1      284807 non-null  float64\n",
            " 2   V2      284807 non-null  float64\n",
            " 3   V3      284807 non-null  float64\n",
            " 4   V4      284807 non-null  float64\n",
            " 5   V5      284807 non-null  float64\n",
            " 6   V6      284807 non-null  float64\n",
            " 7   V7      284807 non-null  float64\n",
            " 8   V8      284807 non-null  float64\n",
            " 9   V9      284807 non-null  float64\n",
            " 10  V10     284807 non-null  float64\n",
            " 11  V11     284807 non-null  float64\n",
            " 12  V12     284807 non-null  float64\n",
            " 13  V13     284807 non-null  float64\n",
            " 14  V14     284807 non-null  float64\n",
            " 15  V15     284807 non-null  float64\n",
            " 16  V16     284807 non-null  float64\n",
            " 17  V17     284807 non-null  float64\n",
            " 18  V18     284807 non-null  float64\n",
            " 19  V19     284807 non-null  float64\n",
            " 20  V20     284807 non-null  float64\n",
            " 21  V21     284807 non-null  float64\n",
            " 22  V22     284807 non-null  float64\n",
            " 23  V23     284807 non-null  float64\n",
            " 24  V24     284807 non-null  float64\n",
            " 25  V25     284807 non-null  float64\n",
            " 26  V26     284807 non-null  float64\n",
            " 27  V27     284807 non-null  float64\n",
            " 28  V28     284807 non-null  float64\n",
            " 29  Amount  284807 non-null  float64\n",
            " 30  Class   284807 non-null  int64  \n",
            "dtypes: float64(30), int64(1)\n",
            "memory usage: 67.4 MB\n"
          ]
        }
      ],
      "source": [
        "#verificação de valores nulos e o tipo de dados\n",
        "dataset.info()"
      ]
    },
    {
      "cell_type": "markdown",
      "metadata": {
        "id": "N7e_GDYLd3D_"
      },
      "source": [
        "Observa-se que há 30 variavéis explicativas, sendo que, por questão de confiabilidade, 28 variáveis são variáveis númericas oriundas da aplicação de PCA. Apenas as variáveis tempo e montante foram disponibilizadas. A variável resposta é a 'Class', do tipo binária, na qual 0 corresponde a transações não fraudulentas, e 1 corresponde a transações fraudulentas."
      ]
    },
    {
      "cell_type": "code",
      "execution_count": null,
      "metadata": {
        "colab": {
          "base_uri": "https://localhost:8080/"
        },
        "id": "dscYKSzGTBtB",
        "outputId": "79ddf947-0e20-452e-a505-7c756ecd1860"
      },
      "outputs": [
        {
          "data": {
            "text/plain": [
              "Time      0\n",
              "V1        0\n",
              "V2        0\n",
              "V3        0\n",
              "V4        0\n",
              "V5        0\n",
              "V6        0\n",
              "V7        0\n",
              "V8        0\n",
              "V9        0\n",
              "V10       0\n",
              "V11       0\n",
              "V12       0\n",
              "V13       0\n",
              "V14       0\n",
              "V15       0\n",
              "V16       0\n",
              "V17       0\n",
              "V18       0\n",
              "V19       0\n",
              "V20       0\n",
              "V21       0\n",
              "V22       0\n",
              "V23       0\n",
              "V24       0\n",
              "V25       0\n",
              "V26       0\n",
              "V27       0\n",
              "V28       0\n",
              "Amount    0\n",
              "Class     0\n",
              "dtype: int64"
            ]
          },
          "execution_count": 277,
          "metadata": {},
          "output_type": "execute_result"
        }
      ],
      "source": [
        "# verificação de missing values\n",
        "dataset.isna().sum()"
      ]
    },
    {
      "cell_type": "markdown",
      "metadata": {
        "id": "bQhvJx6OUxzX"
      },
      "source": [
        "Não há missing values na base de dados"
      ]
    },
    {
      "cell_type": "code",
      "execution_count": null,
      "metadata": {
        "colab": {
          "base_uri": "https://localhost:8080/"
        },
        "id": "Q7cPLfQwrDkw",
        "outputId": "846bab33-27aa-4fa2-c99c-a4a71c8b4c68"
      },
      "outputs": [
        {
          "data": {
            "text/plain": [
              "Time      0\n",
              "V1        0\n",
              "V2        0\n",
              "V3        0\n",
              "V4        0\n",
              "V5        0\n",
              "V6        0\n",
              "V7        0\n",
              "V8        0\n",
              "V9        0\n",
              "V10       0\n",
              "V11       0\n",
              "V12       0\n",
              "V13       0\n",
              "V14       0\n",
              "V15       0\n",
              "V16       0\n",
              "V17       0\n",
              "V18       0\n",
              "V19       0\n",
              "V20       0\n",
              "V21       0\n",
              "V22       0\n",
              "V23       0\n",
              "V24       0\n",
              "V25       0\n",
              "V26       0\n",
              "V27       0\n",
              "V28       0\n",
              "Amount    0\n",
              "Class     0\n",
              "dtype: int64"
            ]
          },
          "execution_count": 278,
          "metadata": {},
          "output_type": "execute_result"
        }
      ],
      "source": [
        "#verificar se tem valores nulos\n",
        "dataset.isnull().sum()"
      ]
    },
    {
      "cell_type": "markdown",
      "metadata": {
        "id": "BjXunhQkrORP"
      },
      "source": [
        "Não há valores nulos"
      ]
    },
    {
      "cell_type": "code",
      "execution_count": null,
      "metadata": {
        "colab": {
          "base_uri": "https://localhost:8080/",
          "height": 517
        },
        "id": "J9kWJ3w4Uk6X",
        "outputId": "97cbfd5c-f311-4b80-f3d7-aa9169c765d5"
      },
      "outputs": [
        {
          "output_type": "stream",
          "name": "stdout",
          "text": [
            "Total de transações:  284807\n",
            "Transações não fraudulentas:  284315\n",
            "% de Transações não fraudulentas:  99.827 %\n",
            "Transações fraudulentas:  492\n",
            "% de Transações fraudulentas:  0.173 %\n",
            "Distribuição: \n",
            "0    284315\n",
            "1       492\n",
            "Name: Class, dtype: int64\n"
          ]
        },
        {
          "output_type": "stream",
          "name": "stderr",
          "text": [
            "/usr/local/lib/python3.8/dist-packages/seaborn/_decorators.py:36: FutureWarning: Pass the following variable as a keyword arg: x. From version 0.12, the only valid positional argument will be `data`, and passing other arguments without an explicit keyword will result in an error or misinterpretation.\n",
            "  warnings.warn(\n"
          ]
        },
        {
          "output_type": "display_data",
          "data": {
            "text/plain": [
              "<Figure size 432x288 with 1 Axes>"
            ],
            "image/png": "[encoded data removed]"
          },
          "metadata": {
            "needs_background": "light"
          }
        }
      ],
      "source": [
        "# contagem e visualização da variável resposta\n",
        "import pandas as pd\n",
        "import seaborn as sns\n",
        "import matplotlib.pyplot as plt\n",
        "distribuicao = dataset['Class'].value_counts()\n",
        "total = len(dataset)\n",
        "fraudes =  dataset['Class'].sum()\n",
        "validas = total - fraudes\n",
        "per_validas = validas / total\n",
        "per_fraudes = fraudes /total\n",
        "print(\"Total de transações: \", total)\n",
        "print(\"Transações não fraudulentas: \", validas)\n",
        "print(\"% de Transações não fraudulentas: \", \"%.3f\" %(per_validas*100),\"%\")\n",
        "print(\"Transações fraudulentas: \", fraudes)\n",
        "print(\"% de Transações fraudulentas: \", \"%.3f\" %(per_fraudes*100),\"%\")\n",
        "print(\"Distribuição: \")\n",
        "print (distribuicao)\n",
        "ax = sns.countplot(dataset['Class']).set(title='Distribuição Não Fraude x Fraude')\n",
        "plt.ylabel('nº de observações')\n",
        "plt.xlabel('Variável resposta \"Class\"')\n",
        "plt.show()"
      ]
    },
    {
      "cell_type": "markdown",
      "metadata": {
        "id": "4I8GO6U6a6iO"
      },
      "source": [
        "\n",
        "Como é de se esperar, as transações fraudulentas são minoria, 492 do total de 284807 observações, correspondendo a 0,17% das observações.\n",
        "Portanto, para a construção do nosso modelo preditivo, previamente, será necessário a realização do balanceamento dos dados."
      ]
    },
    {
      "cell_type": "code",
      "execution_count": null,
      "metadata": {
        "colab": {
          "base_uri": "https://localhost:8080/"
        },
        "id": "f10NHZoncp91",
        "outputId": "99bb23ba-61ef-4c7e-f8f9-d6001aeb3c73"
      },
      "outputs": [
        {
          "data": {
            "text/plain": [
              "count    284315.000000\n",
              "mean         88.291022\n",
              "std         250.105092\n",
              "min           0.000000\n",
              "25%           5.650000\n",
              "50%          22.000000\n",
              "75%          77.050000\n",
              "max       25691.160000\n",
              "Name: Amount, dtype: float64"
            ]
          },
          "execution_count": 280,
          "metadata": {},
          "output_type": "execute_result"
        }
      ],
      "source": [
        "#estatísticas descritivas da variável resposta\n",
        "#descrição dos dados das transações não fraudulentas\n",
        "dataset_não_fraudulentas = dataset.Amount[dataset.Class == 0]\n",
        "dataset_não_fraudulentas.describe()"
      ]
    },
    {
      "cell_type": "code",
      "execution_count": null,
      "metadata": {
        "colab": {
          "base_uri": "https://localhost:8080/"
        },
        "id": "qjf6SXQrsXjI",
        "outputId": "4ff4ac1f-1117-4bb3-9889-48c6e297bc07"
      },
      "outputs": [
        {
          "data": {
            "text/plain": [
              "count     492.000000\n",
              "mean      122.211321\n",
              "std       256.683288\n",
              "min         0.000000\n",
              "25%         1.000000\n",
              "50%         9.250000\n",
              "75%       105.890000\n",
              "max      2125.870000\n",
              "Name: Amount, dtype: float64"
            ]
          },
          "execution_count": 281,
          "metadata": {},
          "output_type": "execute_result"
        }
      ],
      "source": [
        "#descrição dos dados das transações fraudulentas\n",
        "dataset_fraudulentas = dataset.Amount[dataset.Class == 1]\n",
        "dataset_fraudulentas.describe()"
      ]
    },
    {
      "cell_type": "markdown",
      "metadata": {
        "id": "YZFLWTkPspQ2"
      },
      "source": [
        "Observa-se que as transações fraudulentas possuem uma média maior do que as \n",
        "transações não fraudulentas (105.89 contra 77.05), sendo que 75% das observações vão até o valor de 105.89, enquanto nas transções não fraudulentas vão até 77.05. Entretanto, o valor máximo é menor: 2125.87 ante 25691.16"
      ]
    },
    {
      "cell_type": "markdown",
      "metadata": {
        "id": "OaLH0iwG3MnF"
      },
      "source": [
        "#5. SEPARANDO A BASE DE TREINO E TESTE\n"
      ]
    },
    {
      "cell_type": "code",
      "execution_count": null,
      "metadata": {
        "id": "5OqjBm2vgcEH"
      },
      "outputs": [],
      "source": [
        "#separando os dados para treinamento e teste\n",
        "X = dataset.drop([\"Class\"], axis=1)\n",
        "y = dataset['Class']"
      ]
    },
    {
      "cell_type": "code",
      "execution_count": null,
      "metadata": {
        "colab": {
          "base_uri": "https://localhost:8080/"
        },
        "id": "JRiStp9ovITS",
        "outputId": "a1b57fbe-6116-47d5-b029-8423928e7456"
      },
      "outputs": [
        {
          "output_type": "stream",
          "name": "stdout",
          "text": [
            "(199364, 30) (85443, 30) (199364,) (85443,)\n",
            "0    199008\n",
            "1       356\n",
            "Name: Class, dtype: int64\n",
            "0    85307\n",
            "1      136\n",
            "Name: Class, dtype: int64\n"
          ]
        }
      ],
      "source": [
        "#split de treino e teste\n",
        "from sklearn.model_selection import train_test_split\n",
        "X_treino, X_teste, y_treino, y_teste = train_test_split(X, y, test_size=0.3, random_state=13)\n",
        "print(X_treino.shape, X_teste.shape, y_treino.shape, y_teste.shape)\n",
        "print(y_treino.value_counts())\n",
        "print(y_teste.value_counts())"
      ]
    },
    {
      "cell_type": "markdown",
      "metadata": {
        "id": "FyYXBk2h2vVv"
      },
      "source": [
        "# 6. DADOS DESBALANCEADOS"
      ]
    },
    {
      "cell_type": "markdown",
      "metadata": {
        "id": "qrRMpeE425tn"
      },
      "source": [
        "# 6.1 ÁRVORE DE DECISÃO"
      ]
    },
    {
      "cell_type": "code",
      "execution_count": null,
      "metadata": {
        "id": "k585tUDzMbp4"
      },
      "outputs": [],
      "source": [
        "from sklearn.tree import DecisionTreeClassifier, plot_tree\n",
        "modelo =DecisionTreeClassifier(random_state=13)\n",
        "modelo = modelo.fit(X_treino, y_treino)"
      ]
    },
    {
      "cell_type": "code",
      "execution_count": null,
      "metadata": {
        "colab": {
          "base_uri": "https://localhost:8080/"
        },
        "id": "9XZbLRQNVVXy",
        "outputId": "809ea057-ffc8-4b8f-8380-559211408c54"
      },
      "outputs": [
        {
          "output_type": "execute_result",
          "data": {
            "text/plain": [
              "0.024190606550221212"
            ]
          },
          "metadata": {},
          "execution_count": 36
        }
      ],
      "source": [
        "#predição\n",
        "y_pred = modelo.predict(X_teste)\n",
        "\n",
        "#erro médio - raíz quadrada\n",
        "\n",
        "np.sqrt(mean_squared_error(y_teste, y_pred))"
      ]
    },
    {
      "cell_type": "code",
      "execution_count": null,
      "metadata": {
        "colab": {
          "base_uri": "https://localhost:8080/"
        },
        "id": "KIU2kQhjUvi0",
        "outputId": "eb0f372b-8237-43c0-8b99-3a3716df0424"
      },
      "outputs": [
        {
          "output_type": "stream",
          "name": "stdout",
          "text": [
            "22\n"
          ]
        }
      ],
      "source": [
        "#profundidade da árvore default\n",
        "print(modelo.get_depth())"
      ]
    },
    {
      "cell_type": "code",
      "execution_count": null,
      "metadata": {
        "colab": {
          "base_uri": "https://localhost:8080/",
          "height": 295
        },
        "id": "Idju1eehWdlh",
        "outputId": "e1c0e139-a9e4-46b9-c3d0-2cf37da71c9c"
      },
      "outputs": [
        {
          "output_type": "display_data",
          "data": {
            "text/plain": [
              "<Figure size 432x288 with 2 Axes>"
            ],
            "image/png": "[encoded data removed]"
          },
          "metadata": {
            "needs_background": "light"
          }
        }
      ],
      "source": [
        "#matriz de confusão\n",
        "from sklearn.metrics import confusion_matrix, ConfusionMatrixDisplay\n",
        "cfm = confusion_matrix(y_teste, y_pred)\n",
        "ax= plt.subplot()\n",
        "sns.heatmap(cfm, cmap=\"Reds\", annot=True, fmt='g', ax=ax);\n",
        "ax.xaxis.set_ticklabels(['Não Fraude', 'Fraude']); ax.yaxis.set_ticklabels(['Não Fraude', 'Fraude'])\n",
        "plt.title('Matriz de Confusão')\n",
        "plt.xlabel('Valores Previstos')\n",
        "plt.ylabel ('Valores Reais') \n",
        "plt.show()"
      ]
    },
    {
      "cell_type": "code",
      "execution_count": null,
      "metadata": {
        "colab": {
          "base_uri": "https://localhost:8080/"
        },
        "id": "mrWmo7EhEmjX",
        "outputId": "2d696e2d-c5a4-4fbe-890c-796cb315ad4d"
      },
      "outputs": [
        {
          "output_type": "stream",
          "name": "stdout",
          "text": [
            "0.9994148145547324\n"
          ]
        }
      ],
      "source": [
        "#acurácia\n",
        "print(accuracy_score(y_teste, y_pred))"
      ]
    },
    {
      "cell_type": "code",
      "execution_count": null,
      "metadata": {
        "colab": {
          "base_uri": "https://localhost:8080/"
        },
        "id": "YJSAERGtWhoh",
        "outputId": "c1ec2077-17d2-4bff-9202-e2a1523c8a30"
      },
      "outputs": [
        {
          "output_type": "stream",
          "name": "stdout",
          "text": [
            "Classification metrics: \n",
            "               precision    recall  f1-score   support\n",
            "\n",
            "           0       1.00      1.00      1.00     85307\n",
            "           1       0.88      0.74      0.80       136\n",
            "\n",
            "    accuracy                           1.00     85443\n",
            "   macro avg       0.94      0.87      0.90     85443\n",
            "weighted avg       1.00      1.00      1.00     85443\n",
            "\n"
          ]
        }
      ],
      "source": [
        "#outras métricas\n",
        "print('Classification metrics: \\n', classification_report(y_teste, y_pred))"
      ]
    },
    {
      "cell_type": "code",
      "execution_count": null,
      "metadata": {
        "colab": {
          "base_uri": "https://localhost:8080/",
          "height": 313
        },
        "id": "N67ddP93Byp4",
        "outputId": "365e95bf-4828-4c04-bdfc-d4fd73cc666c"
      },
      "outputs": [
        {
          "name": "stdout",
          "output_type": "stream",
          "text": [
            "0.867565002251384\n"
          ]
        },
        {
          "data": {
            "image/png": "[encoded data removed]",
            "text/plain": [
              "<Figure size 432x288 with 1 Axes>"
            ]
          },
          "metadata": {},
          "output_type": "display_data"
        }
      ],
      "source": [
        "#CURVA ROC\n",
        "print(roc_auc_score(y_teste, y_pred))\n",
        "def plot_roc_curve(fper, tper):\n",
        "    plt.plot(fper, tper, color='red', label='ROC')\n",
        "    plt.plot([0, 1], [0, 1], color='blue', linestyle='--')\n",
        "    plt.xlabel('Taxa de Falsos Positivos')\n",
        "    plt.ylabel('Taxa de Verdadeiros Positivos')\n",
        "    plt.title('Curva ROC')\n",
        "    plt.legend()\n",
        "    plt.show()\n",
        "\n",
        "fper, tper, thresholds = roc_curve(y_teste, y_pred)\n",
        "plot_roc_curve(fper, tper)"
      ]
    },
    {
      "cell_type": "markdown",
      "metadata": {
        "id": "EhcwMjjcjXVr"
      },
      "source": [
        "# 6.2 RANDON FOREST"
      ]
    },
    {
      "cell_type": "code",
      "execution_count": null,
      "metadata": {
        "colab": {
          "base_uri": "https://localhost:8080/"
        },
        "id": "USsXxfSjjUky",
        "outputId": "54820958-65ac-4f9f-b46f-8279878931fd"
      },
      "outputs": [
        {
          "name": "stdout",
          "output_type": "stream",
          "text": [
            "CPU times: user 52min 25s, sys: 194 ms, total: 52min 25s\n",
            "Wall time: 1min 20s\n"
          ]
        }
      ],
      "source": [
        "%%time\n",
        "from sklearn.ensemble import RandomForestClassifier\n",
        "modelo = RandomForestClassifier(n_estimators=1000, random_state=13, n_jobs=-1)\n",
        "modelo = modelo.fit(X_treino, y_treino)"
      ]
    },
    {
      "cell_type": "code",
      "execution_count": null,
      "metadata": {
        "colab": {
          "base_uri": "https://localhost:8080/"
        },
        "id": "YL_zO81ajhfK",
        "outputId": "4e1936b5-029d-4d6a-fd04-e675aecb627b"
      },
      "outputs": [
        {
          "data": {
            "text/plain": [
              "0.02023931351818346"
            ]
          },
          "execution_count": 292,
          "metadata": {},
          "output_type": "execute_result"
        }
      ],
      "source": [
        "#predição\n",
        "y_pred = modelo.predict(X_teste)\n",
        "\n",
        "#erro médio - raíz quadrada\n",
        "\n",
        "np.sqrt(mean_squared_error(y_teste, y_pred))"
      ]
    },
    {
      "cell_type": "code",
      "execution_count": null,
      "metadata": {
        "colab": {
          "base_uri": "https://localhost:8080/",
          "height": 295
        },
        "id": "6c5oqu49jmdq",
        "outputId": "ec3b53d2-9c0e-43d9-8526-4fd7c7060111"
      },
      "outputs": [
        {
          "data": {
            "image/png": "[encoded data removed]",
            "text/plain": [
              "<Figure size 432x288 with 2 Axes>"
            ]
          },
          "metadata": {},
          "output_type": "display_data"
        }
      ],
      "source": [
        "#matriz de confusão\n",
        "from sklearn.metrics import confusion_matrix, ConfusionMatrixDisplay\n",
        "cfm = confusion_matrix(y_teste, y_pred)\n",
        "ax= plt.subplot()\n",
        "sns.heatmap(cfm, cmap=\"Reds\", annot=True, fmt='g', ax=ax);\n",
        "ax.xaxis.set_ticklabels(['Não Fraude', 'Fraude']); ax.yaxis.set_ticklabels(['Não Fraude', 'Fraude'])\n",
        "plt.title('Matriz de Confusão')\n",
        "plt.xlabel('Valores Previstos')\n",
        "plt.ylabel ('Valores Reais') \n",
        "plt.show()"
      ]
    },
    {
      "cell_type": "code",
      "execution_count": null,
      "metadata": {
        "colab": {
          "base_uri": "https://localhost:8080/"
        },
        "id": "MrczkJT-jw0a",
        "outputId": "47971dc9-5b3b-4d3f-f473-3f495a03057f"
      },
      "outputs": [
        {
          "name": "stdout",
          "output_type": "stream",
          "text": [
            "0.9995903701883126\n"
          ]
        }
      ],
      "source": [
        "#acurácia\n",
        "print(accuracy_score(y_teste, y_pred))"
      ]
    },
    {
      "cell_type": "code",
      "execution_count": null,
      "metadata": {
        "colab": {
          "base_uri": "https://localhost:8080/"
        },
        "id": "hTaUZAjDj0u7",
        "outputId": "dbe74b4e-3fb9-4002-ba51-ac4be61ab951"
      },
      "outputs": [
        {
          "name": "stdout",
          "output_type": "stream",
          "text": [
            "Classification metrics: \n",
            "               precision    recall  f1-score   support\n",
            "\n",
            "           0       1.00      1.00      1.00     85307\n",
            "           1       0.97      0.76      0.86       136\n",
            "\n",
            "    accuracy                           1.00     85443\n",
            "   macro avg       0.99      0.88      0.93     85443\n",
            "weighted avg       1.00      1.00      1.00     85443\n",
            "\n"
          ]
        }
      ],
      "source": [
        "#outras métricas\n",
        "print('Classification metrics: \\n', classification_report(y_teste, y_pred))"
      ]
    },
    {
      "cell_type": "code",
      "execution_count": null,
      "metadata": {
        "colab": {
          "base_uri": "https://localhost:8080/",
          "height": 313
        },
        "id": "knna4csbj6bD",
        "outputId": "0c447b63-231c-4957-eeb7-50523107af54"
      },
      "outputs": [
        {
          "name": "stdout",
          "output_type": "stream",
          "text": [
            "0.8823353576252966\n"
          ]
        },
        {
          "data": {
            "image/png": "[encoded data removed]",
            "text/plain": [
              "<Figure size 432x288 with 1 Axes>"
            ]
          },
          "metadata": {},
          "output_type": "display_data"
        }
      ],
      "source": [
        "# CURVA ROC\n",
        "print(roc_auc_score(y_teste, y_pred))\n",
        "def plot_roc_curve(fper, tper):\n",
        "    plt.plot(fper, tper, color='red', label='ROC')\n",
        "    plt.plot([0, 1], [0, 1], color='blue', linestyle='--')\n",
        "    plt.xlabel('Taxa de Falsos Positivos')\n",
        "    plt.ylabel('Taxa de Verdadeiros Positivos')\n",
        "    plt.title('Curva ROC')\n",
        "    plt.legend()\n",
        "    plt.show()\n",
        "\n",
        "fper, tper, thresholds = roc_curve(y_teste, y_pred)\n",
        "plot_roc_curve(fper, tper)"
      ]
    },
    {
      "cell_type": "markdown",
      "metadata": {
        "id": "hB75yS8J3MSN"
      },
      "source": [
        "# 7 MÉTODOS DE OVER-SAMPLING"
      ]
    },
    {
      "cell_type": "markdown",
      "metadata": {
        "id": "pkyR7O1o3ViH"
      },
      "source": [
        "# 7.1 SMOTE\n"
      ]
    },
    {
      "cell_type": "code",
      "execution_count": null,
      "metadata": {
        "colab": {
          "base_uri": "https://localhost:8080/"
        },
        "id": "MaPOk7kzqsMm",
        "outputId": "25ce4b38-9321-473c-e5c7-19804b83522b"
      },
      "outputs": [
        {
          "name": "stdout",
          "output_type": "stream",
          "text": [
            "0    199008\n",
            "1       356\n",
            "Name: Class, dtype: int64\n",
            "0    85307\n",
            "1      136\n",
            "Name: Class, dtype: int64\n",
            "0    199008\n",
            "1    199008\n",
            "Name: Class, dtype: int64\n"
          ]
        }
      ],
      "source": [
        "#balanceamento da base de treino\n",
        "from imblearn.over_sampling import SMOTE\n",
        "from sklearn.utils import resample\n",
        "print(y_treino.value_counts()) # verificação do X_treino antes do SMOTE\n",
        "print(y_teste.value_counts()) # verificação do y_teste\n",
        "bal = SMOTE(random_state=13, n_jobs=-1, k_neighbors=2)\n",
        "X_treino_bal, y_treino_bal = bal.fit_resample(X_treino, y_treino)\n",
        "print(y_treino_bal.value_counts())#treino após o SMOTE"
      ]
    },
    {
      "cell_type": "markdown",
      "metadata": {
        "id": "3qPl7dRPl58C"
      },
      "source": [
        "# 7.1.1 -SMOTE -ÁRVORE DE DECISÃO"
      ]
    },
    {
      "cell_type": "code",
      "execution_count": null,
      "metadata": {
        "colab": {
          "base_uri": "https://localhost:8080/"
        },
        "id": "GK_1BP9GraMn",
        "outputId": "24101550-8925-475c-df17-d720e64a8cce"
      },
      "outputs": [
        {
          "name": "stdout",
          "output_type": "stream",
          "text": [
            "45\n"
          ]
        }
      ],
      "source": [
        "#modelo\n",
        "from sklearn.tree import DecisionTreeClassifier, plot_tree\n",
        "modelo = DecisionTreeClassifier(random_state=13)\n",
        "modelo = modelo.fit(X_treino_bal, y_treino_bal)\n",
        "print(modelo.get_depth())"
      ]
    },
    {
      "cell_type": "code",
      "execution_count": null,
      "metadata": {
        "colab": {
          "base_uri": "https://localhost:8080/"
        },
        "id": "dBWxwqeZ-CFj",
        "outputId": "6c5afaa9-bdb9-4ba8-f012-ba5d88cb079d"
      },
      "outputs": [
        {
          "data": {
            "text/plain": [
              "0.03945368530836923"
            ]
          },
          "execution_count": 299,
          "metadata": {},
          "output_type": "execute_result"
        }
      ],
      "source": [
        "#predição\n",
        "y_pred = modelo.predict(X_teste)\n",
        "\n",
        "#erro médio - raíz quadrada\n",
        "\n",
        "np.sqrt(mean_squared_error(y_teste, y_pred))"
      ]
    },
    {
      "cell_type": "code",
      "execution_count": null,
      "metadata": {
        "colab": {
          "base_uri": "https://localhost:8080/",
          "height": 295
        },
        "id": "MBSKIAQ_vXC0",
        "outputId": "57926a71-af53-48e2-fa3d-e7c12052a031"
      },
      "outputs": [
        {
          "data": {
            "image/png": "[encoded data removed]",
            "text/plain": [
              "<Figure size 432x288 with 2 Axes>"
            ]
          },
          "metadata": {},
          "output_type": "display_data"
        }
      ],
      "source": [
        "#matriz de confusão\n",
        "from sklearn.metrics import confusion_matrix, ConfusionMatrixDisplay\n",
        "cfm = confusion_matrix(y_teste, y_pred)\n",
        "ax= plt.subplot()\n",
        "sns.heatmap(cfm, cmap=\"Reds\", annot=True, fmt='g', ax=ax);\n",
        "ax.xaxis.set_ticklabels(['Não Fraude', 'Fraude']); ax.yaxis.set_ticklabels(['Não Fraude', 'Fraude'])\n",
        "plt.title('Matriz de Confusão')\n",
        "plt.xlabel('Valores Previstos')\n",
        "plt.ylabel ('Valores Reais') \n",
        "plt.show()"
      ]
    },
    {
      "cell_type": "code",
      "execution_count": null,
      "metadata": {
        "colab": {
          "base_uri": "https://localhost:8080/"
        },
        "id": "YsLIRUO-ExXO",
        "outputId": "29a4a007-81a3-4b60-d99c-f290b28d9ced"
      },
      "outputs": [
        {
          "name": "stdout",
          "output_type": "stream",
          "text": [
            "0.9984434067155882\n"
          ]
        }
      ],
      "source": [
        "#acurácia\n",
        "print(accuracy_score(y_teste, y_pred))"
      ]
    },
    {
      "cell_type": "code",
      "execution_count": null,
      "metadata": {
        "colab": {
          "base_uri": "https://localhost:8080/"
        },
        "id": "Xv-UGgcpvdKL",
        "outputId": "2d58a13a-ffdb-4419-e0c7-8ab6fcb91a3f"
      },
      "outputs": [
        {
          "name": "stdout",
          "output_type": "stream",
          "text": [
            "Classification metrics: \n",
            "               precision    recall  f1-score   support\n",
            "\n",
            "           0       1.00      1.00      1.00     85307\n",
            "           1       0.51      0.78      0.61       136\n",
            "\n",
            "    accuracy                           1.00     85443\n",
            "   macro avg       0.75      0.89      0.81     85443\n",
            "weighted avg       1.00      1.00      1.00     85443\n",
            "\n"
          ]
        }
      ],
      "source": [
        "#outras métricas\n",
        "print('Classification metrics: \\n', classification_report(y_teste, y_pred))"
      ]
    },
    {
      "cell_type": "code",
      "execution_count": null,
      "metadata": {
        "colab": {
          "base_uri": "https://localhost:8080/",
          "height": 313
        },
        "id": "_XBpTWrg-zBM",
        "outputId": "611c6a26-32b9-4c4a-b64d-9387469d614e"
      },
      "outputs": [
        {
          "name": "stdout",
          "output_type": "stream",
          "text": [
            "0.8891021804293006\n"
          ]
        },
        {
          "data": {
            "image/png": "[encoded data removed]",
            "text/plain": [
              "<Figure size 432x288 with 1 Axes>"
            ]
          },
          "metadata": {},
          "output_type": "display_data"
        }
      ],
      "source": [
        "# CURVA ROC\n",
        "print(roc_auc_score(y_teste, y_pred))\n",
        "def plot_roc_curve(fper, tper):\n",
        "    plt.plot(fper, tper, color='red', label='ROC')\n",
        "    plt.plot([0, 1], [0, 1], color='blue', linestyle='--')\n",
        "    plt.xlabel('Taxa de Falsos Positivos')\n",
        "    plt.ylabel('Taxa de Verdadeiros Positivos')\n",
        "    plt.title('Curva ROC')\n",
        "    plt.legend()\n",
        "    plt.show()\n",
        "\n",
        "fper, tper, thresholds = roc_curve(y_teste, y_pred)\n",
        "plot_roc_curve(fper, tper)"
      ]
    },
    {
      "cell_type": "markdown",
      "metadata": {
        "id": "Ti7Xjt-3mTGS"
      },
      "source": [
        "# 7.1.2 - SMOTE - RANDOM FOREST"
      ]
    },
    {
      "cell_type": "code",
      "execution_count": null,
      "metadata": {
        "colab": {
          "base_uri": "https://localhost:8080/"
        },
        "id": "pRIcZzBlmYPh",
        "outputId": "e39884bb-d289-4ef9-82c7-645eb4c36b76"
      },
      "outputs": [
        {
          "name": "stdout",
          "output_type": "stream",
          "text": [
            "CPU times: user 1h 35min 36s, sys: 256 ms, total: 1h 35min 36s\n",
            "Wall time: 2min 26s\n"
          ]
        }
      ],
      "source": [
        "#modelo\n",
        "%%time\n",
        "from sklearn.ensemble import RandomForestClassifier\n",
        "modelo = RandomForestClassifier(n_estimators=1000, random_state=13, n_jobs=-1)\n",
        "modelo = modelo.fit(X_treino_bal, y_treino_bal)"
      ]
    },
    {
      "cell_type": "code",
      "execution_count": null,
      "metadata": {
        "colab": {
          "base_uri": "https://localhost:8080/"
        },
        "id": "13lGm-H6nX4R",
        "outputId": "5128e70c-fb28-4821-c561-ce64f2b6b36e"
      },
      "outputs": [
        {
          "data": {
            "text/plain": [
              "0.0199480851908641"
            ]
          },
          "execution_count": 305,
          "metadata": {},
          "output_type": "execute_result"
        }
      ],
      "source": [
        "#predição\n",
        "y_pred = modelo.predict(X_teste)\n",
        "\n",
        "#erro médio - raíz quadrada\n",
        "\n",
        "np.sqrt(mean_squared_error(y_teste, y_pred))"
      ]
    },
    {
      "cell_type": "code",
      "execution_count": null,
      "metadata": {
        "colab": {
          "base_uri": "https://localhost:8080/",
          "height": 295
        },
        "id": "HW5grXUSnmXy",
        "outputId": "887fe0d9-7690-4849-d5de-2c4255406e6f"
      },
      "outputs": [
        {
          "data": {
            "image/png": "[encoded data removed]",
            "text/plain": [
              "<Figure size 432x288 with 2 Axes>"
            ]
          },
          "metadata": {},
          "output_type": "display_data"
        }
      ],
      "source": [
        "#matriz de confusão\n",
        "from sklearn.metrics import confusion_matrix, ConfusionMatrixDisplay\n",
        "cfm = confusion_matrix(y_teste, y_pred)\n",
        "ax= plt.subplot()\n",
        "sns.heatmap(cfm, cmap=\"Reds\", annot=True, fmt='g', ax=ax);\n",
        "ax.xaxis.set_ticklabels(['Não Fraude', 'Fraude']); ax.yaxis.set_ticklabels(['Não Fraude', 'Fraude'])\n",
        "plt.title('Matriz de Confusão')\n",
        "plt.xlabel('Valores Previstos')\n",
        "plt.ylabel ('Valores Reais') \n",
        "plt.show()"
      ]
    },
    {
      "cell_type": "code",
      "execution_count": null,
      "metadata": {
        "colab": {
          "base_uri": "https://localhost:8080/"
        },
        "id": "K06Op0RXno6b",
        "outputId": "48e7fe69-64d0-4001-a22f-1e4dca8b061b"
      },
      "outputs": [
        {
          "name": "stdout",
          "output_type": "stream",
          "text": [
            "0.999602073897218\n"
          ]
        }
      ],
      "source": [
        "#acurácia\n",
        "print(accuracy_score(y_teste, y_pred))"
      ]
    },
    {
      "cell_type": "code",
      "execution_count": null,
      "metadata": {
        "colab": {
          "base_uri": "https://localhost:8080/"
        },
        "id": "SwWfC2fYnsLj",
        "outputId": "0498b212-f10c-41f1-9f33-05bbed519314"
      },
      "outputs": [
        {
          "name": "stdout",
          "output_type": "stream",
          "text": [
            "Classification metrics: \n",
            "               precision    recall  f1-score   support\n",
            "\n",
            "           0       1.00      1.00      1.00     85307\n",
            "           1       0.93      0.82      0.87       136\n",
            "\n",
            "    accuracy                           1.00     85443\n",
            "   macro avg       0.96      0.91      0.93     85443\n",
            "weighted avg       1.00      1.00      1.00     85443\n",
            "\n"
          ]
        }
      ],
      "source": [
        "#outras métricas\n",
        "print('Classification metrics: \\n', classification_report(y_teste, y_pred))"
      ]
    },
    {
      "cell_type": "code",
      "execution_count": null,
      "metadata": {
        "colab": {
          "base_uri": "https://localhost:8080/",
          "height": 313
        },
        "id": "4zG1q5h2nvh5",
        "outputId": "7632dccc-8e35-45ff-9bdf-40be63a56320"
      },
      "outputs": [
        {
          "name": "stdout",
          "output_type": "stream",
          "text": [
            "0.9080354846405957\n"
          ]
        },
        {
          "data": {
            "image/png": "[encoded data removed]",
            "text/plain": [
              "<Figure size 432x288 with 1 Axes>"
            ]
          },
          "metadata": {},
          "output_type": "display_data"
        }
      ],
      "source": [
        "# CURVA ROC\n",
        "print(roc_auc_score(y_teste, y_pred))\n",
        "def plot_roc_curve(fper, tper):\n",
        "    plt.plot(fper, tper, color='red', label='ROC')\n",
        "    plt.plot([0, 1], [0, 1], color='blue', linestyle='--')\n",
        "    plt.xlabel('Taxa de Falsos Positivos')\n",
        "    plt.ylabel('Taxa de Verdadeiros Positivos')\n",
        "    plt.title('Curva ROC')\n",
        "    plt.legend()\n",
        "    plt.show()\n",
        "\n",
        "fper, tper, thresholds = roc_curve(y_teste, y_pred)\n",
        "plot_roc_curve(fper, tper)"
      ]
    },
    {
      "cell_type": "markdown",
      "metadata": {
        "id": "9S56Wbz14JyV"
      },
      "source": [
        "# 7.2 ADASYN"
      ]
    },
    {
      "cell_type": "code",
      "execution_count": null,
      "metadata": {
        "colab": {
          "base_uri": "https://localhost:8080/"
        },
        "id": "Rbc-PGnLpHMn",
        "outputId": "2d43068b-386b-4f16-daed-cd7fd603ec8c"
      },
      "outputs": [
        {
          "name": "stdout",
          "output_type": "stream",
          "text": [
            "0    199008\n",
            "1       356\n",
            "Name: Class, dtype: int64\n",
            "0    85307\n",
            "1      136\n",
            "Name: Class, dtype: int64\n",
            "1    199065\n",
            "0    199008\n",
            "Name: Class, dtype: int64\n"
          ]
        }
      ],
      "source": [
        "#balanceamento da base de treinofrom imblearn.over_sampling import ADASYN\n",
        "from sklearn.utils import resample\n",
        "from sklearn.datasets import make_classification\n",
        "print(y_treino.value_counts()) # verificação do X_treino antes antes da técnica\n",
        "print(y_teste.value_counts()) # verificação do y_teste\n",
        "bal = ADASYN(random_state=13, n_jobs=-1, n_neighbors=2)\n",
        "X_treino_bal, y_treino_bal = bal.fit_resample(X_treino, y_treino)\n",
        "print(y_treino_bal.value_counts())#treino após a técnica"
      ]
    },
    {
      "cell_type": "markdown",
      "metadata": {
        "id": "HjI-LIppo0lI"
      },
      "source": [
        "# 7.2.1 ADASYN - ÁRVORE DE DECISÃO"
      ]
    },
    {
      "cell_type": "code",
      "execution_count": null,
      "metadata": {
        "colab": {
          "base_uri": "https://localhost:8080/"
        },
        "id": "C1cbe4hm9pBz",
        "outputId": "074f85bd-9a72-4743-ad21-0eca63f8d2cc"
      },
      "outputs": [
        {
          "name": "stdout",
          "output_type": "stream",
          "text": [
            "38\n"
          ]
        }
      ],
      "source": [
        "#modelo\n",
        "from sklearn.tree import DecisionTreeClassifier, plot_tree\n",
        "modelo = DecisionTreeClassifier(random_state=13)\n",
        "modelo = modelo.fit(X_treino_bal, y_treino_bal)\n",
        "print(modelo.get_depth())"
      ]
    },
    {
      "cell_type": "code",
      "execution_count": null,
      "metadata": {
        "colab": {
          "base_uri": "https://localhost:8080/"
        },
        "id": "dY1XC-7d9rPT",
        "outputId": "9c85701c-b53d-4315-ce4c-ed058687a190"
      },
      "outputs": [
        {
          "data": {
            "text/plain": [
              "0.040622936324872516"
            ]
          },
          "execution_count": 312,
          "metadata": {},
          "output_type": "execute_result"
        }
      ],
      "source": [
        "#predição\n",
        "y_pred = modelo.predict(X_teste)\n",
        "\n",
        "#erro médio - raíz quadrada\n",
        "\n",
        "np.sqrt(mean_squared_error(y_teste, y_pred))"
      ]
    },
    {
      "cell_type": "code",
      "execution_count": null,
      "metadata": {
        "colab": {
          "base_uri": "https://localhost:8080/",
          "height": 295
        },
        "id": "JjXw8RWy9uvC",
        "outputId": "1fe59945-288b-4b52-fcb5-3e7f49c9c05f"
      },
      "outputs": [
        {
          "data": {
            "image/png": "[encoded data removed]",
            "text/plain": [
              "<Figure size 432x288 with 2 Axes>"
            ]
          },
          "metadata": {},
          "output_type": "display_data"
        }
      ],
      "source": [
        "#matriz de confusão\n",
        "from sklearn.metrics import confusion_matrix, ConfusionMatrixDisplay\n",
        "cfm = confusion_matrix(y_teste, y_pred)\n",
        "ax= plt.subplot()\n",
        "sns.heatmap(cfm, cmap=\"Reds\", annot=True, fmt='g', ax=ax);\n",
        "ax.xaxis.set_ticklabels(['Não Fraude', 'Fraude']); ax.yaxis.set_ticklabels(['Não Fraude', 'Fraude'])\n",
        "plt.title('Matriz de Confusão')\n",
        "plt.xlabel('Valores Previstos')\n",
        "plt.ylabel ('Valores Reais') \n",
        "plt.show()"
      ]
    },
    {
      "cell_type": "code",
      "execution_count": null,
      "metadata": {
        "colab": {
          "base_uri": "https://localhost:8080/"
        },
        "id": "3ZlPgZ0vr43a",
        "outputId": "b54c7c13-8f70-42e1-cded-8e5c8a7afe11"
      },
      "outputs": [
        {
          "name": "stdout",
          "output_type": "stream",
          "text": [
            "0.9983497770443454\n"
          ]
        }
      ],
      "source": [
        "#acurácia\n",
        "print(accuracy_score(y_teste, y_pred))"
      ]
    },
    {
      "cell_type": "code",
      "execution_count": null,
      "metadata": {
        "colab": {
          "base_uri": "https://localhost:8080/"
        },
        "id": "nmxf16d69znb",
        "outputId": "3cacbe9f-afaf-4038-834a-bbdb1d6859d1"
      },
      "outputs": [
        {
          "name": "stdout",
          "output_type": "stream",
          "text": [
            "Classification metrics: \n",
            "               precision    recall  f1-score   support\n",
            "\n",
            "           0       1.00      1.00      1.00     85307\n",
            "           1       0.49      0.75      0.59       136\n",
            "\n",
            "    accuracy                           1.00     85443\n",
            "   macro avg       0.74      0.87      0.80     85443\n",
            "weighted avg       1.00      1.00      1.00     85443\n",
            "\n"
          ]
        }
      ],
      "source": [
        "#outras métricas\n",
        "\n",
        "print('Classification metrics: \\n', classification_report(y_teste, y_pred))"
      ]
    },
    {
      "cell_type": "code",
      "execution_count": null,
      "metadata": {
        "colab": {
          "base_uri": "https://localhost:8080/",
          "height": 313
        },
        "id": "1tRIPM--_a4y",
        "outputId": "927da7a6-3386-4d20-8375-62139381ce1c"
      },
      "outputs": [
        {
          "name": "stdout",
          "output_type": "stream",
          "text": [
            "0.8743728533414609\n"
          ]
        },
        {
          "data": {
            "image/png": "[encoded data removed]",
            "text/plain": [
              "<Figure size 432x288 with 1 Axes>"
            ]
          },
          "metadata": {},
          "output_type": "display_data"
        }
      ],
      "source": [
        "# CURVA ROC\n",
        "print(roc_auc_score(y_teste, y_pred))\n",
        "def plot_roc_curve(fper, tper):\n",
        "    plt.plot(fper, tper, color='red', label='ROC')\n",
        "    plt.plot([0, 1], [0, 1], color='blue', linestyle='--')\n",
        "    plt.xlabel('Taxa de Falsos Positivos')\n",
        "    plt.ylabel('Taxa de Verdadeiros Positivos')\n",
        "    plt.title('Curva ROC')\n",
        "    plt.legend()\n",
        "    plt.show()\n",
        "\n",
        "fper, tper, thresholds = roc_curve(y_teste, y_pred)\n",
        "plot_roc_curve(fper, tper)"
      ]
    },
    {
      "cell_type": "markdown",
      "metadata": {
        "id": "2C98kxSwr7Xy"
      },
      "source": [
        "# 7.2.2 ADASYN - RANDOM FOREST"
      ]
    },
    {
      "cell_type": "code",
      "execution_count": null,
      "metadata": {
        "colab": {
          "base_uri": "https://localhost:8080/"
        },
        "id": "wCljJwf9sDTt",
        "outputId": "0e6bd672-e68e-4c50-c16d-54adf80a8bbe"
      },
      "outputs": [
        {
          "name": "stdout",
          "output_type": "stream",
          "text": [
            "CPU times: user 1h 27min 29s, sys: 209 ms, total: 1h 27min 29s\n",
            "Wall time: 2min 13s\n"
          ]
        }
      ],
      "source": [
        "#modelo\n",
        "%%time\n",
        "from sklearn.ensemble import RandomForestClassifier\n",
        "modelo = RandomForestClassifier(n_estimators=1000, random_state=13, n_jobs=-1)\n",
        "modelo = modelo.fit(X_treino_bal, y_treino_bal)"
      ]
    },
    {
      "cell_type": "code",
      "execution_count": null,
      "metadata": {
        "colab": {
          "base_uri": "https://localhost:8080/"
        },
        "id": "bXFRQXW2sGu1",
        "outputId": "cf021c4d-5a9d-4c50-fafd-4753f436239d"
      },
      "outputs": [
        {
          "data": {
            "text/plain": [
              "0.02023931351818346"
            ]
          },
          "execution_count": 318,
          "metadata": {},
          "output_type": "execute_result"
        }
      ],
      "source": [
        "#predição\n",
        "y_pred = modelo.predict(X_teste)\n",
        "\n",
        "#erro médio - raíz quadrada\n",
        "\n",
        "np.sqrt(mean_squared_error(y_teste, y_pred))"
      ]
    },
    {
      "cell_type": "code",
      "execution_count": null,
      "metadata": {
        "colab": {
          "base_uri": "https://localhost:8080/",
          "height": 295
        },
        "id": "T0kW-avAu36t",
        "outputId": "afa391d4-0e7a-468c-bdce-0e26969a6f60"
      },
      "outputs": [
        {
          "data": {
            "image/png": "[encoded data removed]",
            "text/plain": [
              "<Figure size 432x288 with 2 Axes>"
            ]
          },
          "metadata": {},
          "output_type": "display_data"
        }
      ],
      "source": [
        "#matriz de confusão\n",
        "from sklearn.metrics import confusion_matrix, ConfusionMatrixDisplay\n",
        "cfm = confusion_matrix(y_teste, y_pred)\n",
        "ax= plt.subplot()\n",
        "sns.heatmap(cfm, cmap=\"Reds\", annot=True, fmt='g', ax=ax);\n",
        "ax.xaxis.set_ticklabels(['Não Fraude', 'Fraude']); ax.yaxis.set_ticklabels(['Não Fraude', 'Fraude'])\n",
        "plt.title('Matriz de Confusão')\n",
        "plt.xlabel('Valores Previstos')\n",
        "plt.ylabel ('Valores Reais') \n",
        "plt.show()"
      ]
    },
    {
      "cell_type": "code",
      "execution_count": null,
      "metadata": {
        "colab": {
          "base_uri": "https://localhost:8080/"
        },
        "id": "ynPjYtxsu63M",
        "outputId": "7cf72c8b-2723-4bf3-80c8-315538e308ae"
      },
      "outputs": [
        {
          "name": "stdout",
          "output_type": "stream",
          "text": [
            "0.9995903701883126\n"
          ]
        }
      ],
      "source": [
        "#acurácia\n",
        "print(accuracy_score(y_teste, y_pred))"
      ]
    },
    {
      "cell_type": "code",
      "execution_count": null,
      "metadata": {
        "colab": {
          "base_uri": "https://localhost:8080/"
        },
        "id": "fRlJMMIEu9HP",
        "outputId": "d4ad13e1-efc4-4303-9335-84577e0b91f6"
      },
      "outputs": [
        {
          "name": "stdout",
          "output_type": "stream",
          "text": [
            "Classification metrics: \n",
            "               precision    recall  f1-score   support\n",
            "\n",
            "           0       1.00      1.00      1.00     85307\n",
            "           1       0.92      0.82      0.86       136\n",
            "\n",
            "    accuracy                           1.00     85443\n",
            "   macro avg       0.96      0.91      0.93     85443\n",
            "weighted avg       1.00      1.00      1.00     85443\n",
            "\n"
          ]
        }
      ],
      "source": [
        "#outras métricas\n",
        "print('Classification metrics: \\n', classification_report(y_teste, y_pred))"
      ]
    },
    {
      "cell_type": "code",
      "execution_count": null,
      "metadata": {
        "colab": {
          "base_uri": "https://localhost:8080/",
          "height": 313
        },
        "id": "g49hyFysvBSP",
        "outputId": "f3b07f5c-19e2-461a-bebe-84916429c478"
      },
      "outputs": [
        {
          "name": "stdout",
          "output_type": "stream",
          "text": [
            "0.908029623456871\n"
          ]
        },
        {
          "data": {
            "image/png": "[encoded data removed]",
            "text/plain": [
              "<Figure size 432x288 with 1 Axes>"
            ]
          },
          "metadata": {},
          "output_type": "display_data"
        }
      ],
      "source": [
        "# CURVA ROC\n",
        "print(roc_auc_score(y_teste, y_pred))\n",
        "def plot_roc_curve(fper, tper):\n",
        "    plt.plot(fper, tper, color='red', label='ROC')\n",
        "    plt.plot([0, 1], [0, 1], color='blue', linestyle='--')\n",
        "    plt.xlabel('Taxa de Falsos Positivos')\n",
        "    plt.ylabel('Taxa de Verdadeiros Positivos')\n",
        "    plt.title('Curva ROC')\n",
        "    plt.legend()\n",
        "    plt.show()\n",
        "\n",
        "fper, tper, thresholds = roc_curve(y_teste, y_pred)\n",
        "plot_roc_curve(fper, tper)"
      ]
    },
    {
      "cell_type": "markdown",
      "metadata": {
        "id": "3sMRmPM6_QeR"
      },
      "source": [
        "# 8.MÉTODOS DE UNDER-SAMPLING"
      ]
    },
    {
      "cell_type": "markdown",
      "metadata": {
        "id": "XsOCfrUnxnxs"
      },
      "source": [
        "# 8.1 RandomUnderSampler"
      ]
    },
    {
      "cell_type": "code",
      "execution_count": null,
      "metadata": {
        "colab": {
          "base_uri": "https://localhost:8080/"
        },
        "id": "EFANhvFAxuVr",
        "outputId": "e5f8ee48-1d5a-486b-bb9b-8b9b6e34ac31"
      },
      "outputs": [
        {
          "output_type": "stream",
          "name": "stdout",
          "text": [
            "0    199008\n",
            "1       356\n",
            "Name: Class, dtype: int64\n",
            "0    85307\n",
            "1      136\n",
            "Name: Class, dtype: int64\n",
            "0    356\n",
            "1    356\n",
            "Name: Class, dtype: int64\n"
          ]
        }
      ],
      "source": [
        "#balanceamento da base de treino\n",
        "from imblearn.under_sampling import RandomUnderSampler\n",
        "from sklearn.utils import resample\n",
        "print(y_treino.value_counts()) # verificação do y_treino antes antes da técnica\n",
        "print(y_teste.value_counts()) # verificação do y_teste\n",
        "bal = RandomUnderSampler(random_state=13)\n",
        "X_treino_bal, y_treino_bal = bal.fit_resample(X_treino, y_treino)\n",
        "print(y_treino_bal.value_counts())#treino após a técnica"
      ]
    },
    {
      "cell_type": "markdown",
      "metadata": {
        "id": "zxNa20x3_Zvh"
      },
      "source": [
        "# 8.1.1 RandomUnderSampler - ÁRVORE DE DECISÃO\n"
      ]
    },
    {
      "cell_type": "code",
      "execution_count": null,
      "metadata": {
        "colab": {
          "base_uri": "https://localhost:8080/"
        },
        "id": "YWFS2eIOAIjp",
        "outputId": "14dd4b76-2acf-4e77-c658-8755855a75a0"
      },
      "outputs": [
        {
          "output_type": "stream",
          "name": "stdout",
          "text": [
            "9\n"
          ]
        }
      ],
      "source": [
        "#modelo\n",
        "from sklearn.tree import DecisionTreeClassifier, plot_tree\n",
        "modelo = DecisionTreeClassifier(random_state=13)\n",
        "modelo = modelo.fit(X_treino_bal, y_treino_bal)\n",
        "print(modelo.get_depth())"
      ]
    },
    {
      "cell_type": "code",
      "execution_count": null,
      "metadata": {
        "colab": {
          "base_uri": "https://localhost:8080/"
        },
        "id": "P_pe7Ri8ANSZ",
        "outputId": "f5e6db10-f162-4a96-b35c-7985011174a1"
      },
      "outputs": [
        {
          "output_type": "execute_result",
          "data": {
            "text/plain": [
              "0.3115427064658793"
            ]
          },
          "metadata": {},
          "execution_count": 52
        }
      ],
      "source": [
        "#predição\n",
        "y_pred = modelo.predict(X_teste)\n",
        "\n",
        "#erro médio - raíz quadrada\n",
        "\n",
        "np.sqrt(mean_squared_error(y_teste, y_pred))"
      ]
    },
    {
      "cell_type": "code",
      "execution_count": null,
      "metadata": {
        "colab": {
          "base_uri": "https://localhost:8080/",
          "height": 295
        },
        "id": "DgtLT6lmASQB",
        "outputId": "6f3ed75f-1df3-47b2-9526-3d8d1cba41a2"
      },
      "outputs": [
        {
          "data": {
            "image/png": "[encoded data removed]",
            "text/plain": [
              "<Figure size 432x288 with 2 Axes>"
            ]
          },
          "metadata": {},
          "output_type": "display_data"
        }
      ],
      "source": [
        "#matriz de confusão\n",
        "from sklearn.metrics import confusion_matrix, ConfusionMatrixDisplay\n",
        "cfm = confusion_matrix(y_teste, y_pred)\n",
        "ax= plt.subplot()\n",
        "sns.heatmap(cfm, cmap=\"Reds\", annot=True, fmt='g', ax=ax);\n",
        "ax.xaxis.set_ticklabels(['Não Fraude', 'Fraude']); ax.yaxis.set_ticklabels(['Não Fraude', 'Fraude'])\n",
        "plt.title('Matriz de Confusão')\n",
        "plt.xlabel('Valores Previstos')\n",
        "plt.ylabel ('Valores Reais') \n",
        "plt.show()"
      ]
    },
    {
      "cell_type": "code",
      "execution_count": null,
      "metadata": {
        "colab": {
          "base_uri": "https://localhost:8080/"
        },
        "id": "BgjgX7GqsARm",
        "outputId": "1fa49b77-bc00-4b78-f48c-92ea4b30c11f"
      },
      "outputs": [
        {
          "name": "stdout",
          "output_type": "stream",
          "text": [
            "0.902941142047915\n"
          ]
        }
      ],
      "source": [
        "#acurácia\n",
        "print(accuracy_score(y_teste, y_pred))"
      ]
    },
    {
      "cell_type": "code",
      "execution_count": null,
      "metadata": {
        "colab": {
          "base_uri": "https://localhost:8080/"
        },
        "id": "eLxLsR0hAVkZ",
        "outputId": "f6886ecb-f403-4691-a4c5-861170b54125"
      },
      "outputs": [
        {
          "name": "stdout",
          "output_type": "stream",
          "text": [
            "Classification metrics: \n",
            "               precision    recall  f1-score   support\n",
            "\n",
            "           0       1.00      0.90      0.95     85307\n",
            "           1       0.01      0.90      0.03       136\n",
            "\n",
            "    accuracy                           0.90     85443\n",
            "   macro avg       0.51      0.90      0.49     85443\n",
            "weighted avg       1.00      0.90      0.95     85443\n",
            "\n"
          ]
        }
      ],
      "source": [
        "#outras métricas\n",
        "print('Classification metrics: \\n', classification_report(y_teste, y_pred))"
      ]
    },
    {
      "cell_type": "code",
      "execution_count": null,
      "metadata": {
        "colab": {
          "base_uri": "https://localhost:8080/",
          "height": 313
        },
        "id": "uYrJjLtlBmfZ",
        "outputId": "3598f208-e8d7-4260-e834-929b67e545b4"
      },
      "outputs": [
        {
          "name": "stdout",
          "output_type": "stream",
          "text": [
            "0.900004671708204\n"
          ]
        },
        {
          "data": {
            "image/png": "[encoded data removed]",
            "text/plain": [
              "<Figure size 432x288 with 1 Axes>"
            ]
          },
          "metadata": {},
          "output_type": "display_data"
        }
      ],
      "source": [
        "# CURVA ROC\n",
        "print(roc_auc_score(y_teste, y_pred))\n",
        "def plot_roc_curve(fper, tper):\n",
        "    plt.plot(fper, tper, color='red', label='ROC')\n",
        "    plt.plot([0, 1], [0, 1], color='blue', linestyle='--')\n",
        "    plt.xlabel('Taxa de Falsos Positivos')\n",
        "    plt.ylabel('Taxa de Verdadeiros Positivos')\n",
        "    plt.title('Curva ROC')\n",
        "    plt.legend()\n",
        "    plt.show()\n",
        "\n",
        "fper, tper, thresholds = roc_curve(y_teste, y_pred)\n",
        "plot_roc_curve(fper, tper)"
      ]
    },
    {
      "cell_type": "markdown",
      "metadata": {
        "id": "RGpyTjHm0qwi"
      },
      "source": [
        "# 8.1.2 RandomUnderSampler - RANDOM FOREST"
      ]
    },
    {
      "cell_type": "code",
      "execution_count": null,
      "metadata": {
        "colab": {
          "base_uri": "https://localhost:8080/"
        },
        "id": "EyGK5FQi0YEB",
        "outputId": "b9f7a416-27c5-4b39-c463-1b449c90a4b6"
      },
      "outputs": [
        {
          "output_type": "stream",
          "name": "stdout",
          "text": [
            "CPU times: user 3.92 s, sys: 269 ms, total: 4.19 s\n",
            "Wall time: 2.93 s\n"
          ]
        }
      ],
      "source": [
        "#modelo\n",
        "%%time\n",
        "from sklearn.ensemble import RandomForestClassifier\n",
        "modelo = RandomForestClassifier(n_estimators=1000, random_state=13, n_jobs=-1)\n",
        "modelo = modelo.fit(X_treino_bal, y_treino_bal)"
      ]
    },
    {
      "cell_type": "code",
      "execution_count": null,
      "metadata": {
        "colab": {
          "base_uri": "https://localhost:8080/"
        },
        "id": "AlUmW0QY1d8A",
        "outputId": "e2e6810a-7c3a-4f67-e834-dd7d5ada36d7"
      },
      "outputs": [
        {
          "output_type": "execute_result",
          "data": {
            "text/plain": [
              "0.1549332338940783"
            ]
          },
          "metadata": {},
          "execution_count": 57
        }
      ],
      "source": [
        "#predição\n",
        "y_pred = modelo.predict(X_teste)\n",
        "\n",
        "#erro médio - raíz quadrada\n",
        "\n",
        "np.sqrt(mean_squared_error(y_teste, y_pred))"
      ]
    },
    {
      "cell_type": "code",
      "execution_count": null,
      "metadata": {
        "colab": {
          "base_uri": "https://localhost:8080/",
          "height": 295
        },
        "id": "nG9zGvpa1gwQ",
        "outputId": "ea02102f-7d0d-47e0-b016-82296748d0cb"
      },
      "outputs": [
        {
          "output_type": "display_data",
          "data": {
            "text/plain": [
              "<Figure size 432x288 with 2 Axes>"
            ],
            "image/png": "[encoded data removed]"
          },
          "metadata": {
            "needs_background": "light"
          }
        }
      ],
      "source": [
        "#matriz de confusão\n",
        "from sklearn.metrics import confusion_matrix, ConfusionMatrixDisplay\n",
        "cfm = confusion_matrix(y_teste, y_pred)\n",
        "ax= plt.subplot()\n",
        "sns.heatmap(cfm, cmap=\"Reds\", annot=True, fmt='g', ax=ax);\n",
        "ax.xaxis.set_ticklabels(['Não Fraude', 'Fraude']); ax.yaxis.set_ticklabels(['Não Fraude', 'Fraude'])\n",
        "plt.title('Matriz de Confusão')\n",
        "plt.xlabel('Valores Previstos')\n",
        "plt.ylabel ('Valores Reais') \n",
        "plt.show()"
      ]
    },
    {
      "cell_type": "code",
      "source": [
        "#acurácia\n",
        "print(accuracy_score(y_teste, y_pred))"
      ],
      "metadata": {
        "colab": {
          "base_uri": "https://localhost:8080/"
        },
        "id": "0G9Eg4i53YGT",
        "outputId": "f8368a73-246e-4ca8-9adf-ad12d360882f"
      },
      "execution_count": null,
      "outputs": [
        {
          "output_type": "stream",
          "name": "stdout",
          "text": [
            "0.9759956930351228\n"
          ]
        }
      ]
    },
    {
      "cell_type": "code",
      "execution_count": null,
      "metadata": {
        "colab": {
          "base_uri": "https://localhost:8080/"
        },
        "id": "Bf8f0H2d1kP4",
        "outputId": "0ce30ebb-713c-42b3-f8e2-ff1629291845"
      },
      "outputs": [
        {
          "name": "stdout",
          "output_type": "stream",
          "text": [
            "Classification metrics: \n",
            "               precision    recall  f1-score   support\n",
            "\n",
            "           0       1.00      0.98      0.99     85307\n",
            "           1       0.06      0.90      0.11       136\n",
            "\n",
            "    accuracy                           0.98     85443\n",
            "   macro avg       0.53      0.94      0.55     85443\n",
            "weighted avg       1.00      0.98      0.99     85443\n",
            "\n"
          ]
        }
      ],
      "source": [
        "#outras métricas\n",
        "print('Classification metrics: \\n', classification_report(y_teste, y_pred))"
      ]
    },
    {
      "cell_type": "code",
      "execution_count": null,
      "metadata": {
        "colab": {
          "base_uri": "https://localhost:8080/",
          "height": 313
        },
        "id": "XTHc2FrP1mjI",
        "outputId": "d67774a4-52cc-488f-d73b-9cd0a6788cef"
      },
      "outputs": [
        {
          "name": "stdout",
          "output_type": "stream",
          "text": [
            "0.9365901805175632\n"
          ]
        },
        {
          "data": {
            "image/png": "[encoded data removed]",
            "text/plain": [
              "<Figure size 432x288 with 1 Axes>"
            ]
          },
          "metadata": {},
          "output_type": "display_data"
        }
      ],
      "source": [
        "# CURVA ROC\n",
        "print(roc_auc_score(y_teste, y_pred))\n",
        "def plot_roc_curve(fper, tper):\n",
        "    plt.plot(fper, tper, color='red', label='ROC')\n",
        "    plt.plot([0, 1], [0, 1], color='blue', linestyle='--')\n",
        "    plt.xlabel('Taxa de Falsos Positivos')\n",
        "    plt.ylabel('Taxa de Verdadeiros Positivos')\n",
        "    plt.title('Curva ROC')\n",
        "    plt.legend()\n",
        "    plt.show()\n",
        "\n",
        "fper, tper, thresholds = roc_curve(y_teste, y_pred)\n",
        "plot_roc_curve(fper, tper)"
      ]
    },
    {
      "cell_type": "markdown",
      "metadata": {
        "id": "YQ-Z53QtA15z"
      },
      "source": [
        "#8.2 EditedNearestNeighbours"
      ]
    },
    {
      "cell_type": "code",
      "execution_count": null,
      "metadata": {
        "colab": {
          "base_uri": "https://localhost:8080/"
        },
        "id": "HjW41zRmA9nx",
        "outputId": "e515f35a-57f3-4b2f-9dd1-87a52a587c57"
      },
      "outputs": [
        {
          "name": "stdout",
          "output_type": "stream",
          "text": [
            "0    199008\n",
            "1       356\n",
            "Name: Class, dtype: int64\n",
            "0    85307\n",
            "1      136\n",
            "Name: Class, dtype: int64\n",
            "0    199002\n",
            "1       356\n",
            "Name: Class, dtype: int64\n",
            "0    85307\n",
            "1      136\n",
            "Name: Class, dtype: int64\n",
            "CPU times: user 44min 57s, sys: 1h 41min 30s, total: 2h 26min 27s\n",
            "Wall time: 21min 23s\n"
          ]
        }
      ],
      "source": [
        "#balanceamento da base de treino\n",
        "%%time\n",
        "from imblearn.under_sampling import EditedNearestNeighbours\n",
        "from sklearn.utils import resample\n",
        "print(y_treino.value_counts()) # verificação do y_treino antes da técnica\n",
        "print(y_teste.value_counts()) # verificação do y_teste\n",
        "bal = EditedNearestNeighbours(n_jobs=-1, sampling_strategy='majority',kind_sel='mode')\n",
        "X_treino_bal, y_treino_bal = bal.fit_resample(X_treino, y_treino)\n",
        "print(y_treino_bal.value_counts())#treino após a técnica\n",
        "print(y_teste.value_counts()) # verificação do y_teste"
      ]
    },
    {
      "cell_type": "markdown",
      "metadata": {
        "id": "OYTvVrIj1_rg"
      },
      "source": [
        "# 8.2.1 EditedNearestNeighbours - ÁRVORE DE DECISÃO"
      ]
    },
    {
      "cell_type": "code",
      "execution_count": null,
      "metadata": {
        "colab": {
          "base_uri": "https://localhost:8080/"
        },
        "id": "Q9RUvTFvBNs5",
        "outputId": "ee2d2c6e-37dc-4a49-aaf5-f9bdd3b28c8b"
      },
      "outputs": [
        {
          "name": "stdout",
          "output_type": "stream",
          "text": [
            "22\n"
          ]
        }
      ],
      "source": [
        "#modelo\n",
        "from sklearn.tree import DecisionTreeClassifier, plot_tree\n",
        "modelo = DecisionTreeClassifier(random_state=13)\n",
        "modelo = modelo.fit(X_treino, y_treino)\n",
        "print(modelo.get_depth())"
      ]
    },
    {
      "cell_type": "code",
      "execution_count": null,
      "metadata": {
        "colab": {
          "base_uri": "https://localhost:8080/"
        },
        "id": "KGqFh03SBPoo",
        "outputId": "0c78599d-8c66-45aa-8272-792830579e24"
      },
      "outputs": [
        {
          "data": {
            "text/plain": [
              "0.02736854709228341"
            ]
          },
          "execution_count": 404,
          "metadata": {},
          "output_type": "execute_result"
        }
      ],
      "source": [
        "#predição\n",
        "y_pred = modelo.predict(X_teste)\n",
        "\n",
        "#erro médio - raíz quadrada\n",
        "\n",
        "np.sqrt(mean_squared_error(y_teste, y_pred))"
      ]
    },
    {
      "cell_type": "code",
      "execution_count": null,
      "metadata": {
        "colab": {
          "base_uri": "https://localhost:8080/",
          "height": 295
        },
        "id": "Yi71PrNsBSJJ",
        "outputId": "373833e3-db0c-49d4-a795-7c07410afce3"
      },
      "outputs": [
        {
          "data": {
            "image/png": "[encoded data removed]",
            "text/plain": [
              "<Figure size 432x288 with 2 Axes>"
            ]
          },
          "metadata": {},
          "output_type": "display_data"
        }
      ],
      "source": [
        "#matriz de confusão\n",
        "from sklearn.metrics import confusion_matrix, ConfusionMatrixDisplay\n",
        "cfm = confusion_matrix(y_teste, y_pred)\n",
        "ax= plt.subplot()\n",
        "sns.heatmap(cfm, cmap=\"Reds\", annot=True, fmt='g', ax=ax);\n",
        "ax.xaxis.set_ticklabels(['Não Fraude', 'Fraude']); ax.yaxis.set_ticklabels(['Não Fraude', 'Fraude'])\n",
        "plt.title('Matriz de Confusão')\n",
        "plt.xlabel('Valores Previstos')\n",
        "plt.ylabel ('Valores Reais') \n",
        "plt.show()"
      ]
    },
    {
      "cell_type": "code",
      "execution_count": null,
      "metadata": {
        "colab": {
          "base_uri": "https://localhost:8080/"
        },
        "id": "ed2fKfC4sFyW",
        "outputId": "b36079e0-2450-4a38-f072-d02fc544f94c"
      },
      "outputs": [
        {
          "name": "stdout",
          "output_type": "stream",
          "text": [
            "0.9992509626300574\n"
          ]
        }
      ],
      "source": [
        "#acurácia\n",
        "print(accuracy_score(y_teste, y_pred))"
      ]
    },
    {
      "cell_type": "code",
      "execution_count": null,
      "metadata": {
        "colab": {
          "base_uri": "https://localhost:8080/"
        },
        "id": "WuhtrUPzBVjo",
        "outputId": "490d2165-2bfa-4e3b-c30e-11fdccfc119d"
      },
      "outputs": [
        {
          "name": "stdout",
          "output_type": "stream",
          "text": [
            "Classification metrics: \n",
            "               precision    recall  f1-score   support\n",
            "\n",
            "           0       1.00      1.00      1.00     85307\n",
            "           1       0.78      0.74      0.76       136\n",
            "\n",
            "    accuracy                           1.00     85443\n",
            "   macro avg       0.89      0.87      0.88     85443\n",
            "weighted avg       1.00      1.00      1.00     85443\n",
            "\n"
          ]
        }
      ],
      "source": [
        "#outras métricas\n",
        "print('Classification metrics: \\n', classification_report(y_teste, y_pred))"
      ]
    },
    {
      "cell_type": "code",
      "execution_count": null,
      "metadata": {
        "colab": {
          "base_uri": "https://localhost:8080/",
          "height": 313
        },
        "id": "FDKQqTozBpYb",
        "outputId": "deaa7742-362e-4320-de93-5da0e01e09a1"
      },
      "outputs": [
        {
          "name": "stdout",
          "output_type": "stream",
          "text": [
            "0.8674829456792389\n"
          ]
        },
        {
          "data": {
            "image/png": "[encoded data removed]",
            "text/plain": [
              "<Figure size 432x288 with 1 Axes>"
            ]
          },
          "metadata": {},
          "output_type": "display_data"
        }
      ],
      "source": [
        "# CURVA ROC\n",
        "print(roc_auc_score(y_teste, y_pred))\n",
        "def plot_roc_curve(fper, tper):\n",
        "    plt.plot(fper, tper, color='red', label='ROC')\n",
        "    plt.plot([0, 1], [0, 1], color='blue', linestyle='--')\n",
        "    plt.xlabel('Taxa de Falsos Positivos')\n",
        "    plt.ylabel('Taxa de Verdadeiros Positivos')\n",
        "    plt.title('Curva ROC')\n",
        "    plt.legend()\n",
        "    plt.show()\n",
        "\n",
        "fper, tper, thresholds = roc_curve(y_teste, y_pred)\n",
        "plot_roc_curve(fper, tper)"
      ]
    },
    {
      "cell_type": "markdown",
      "metadata": {
        "id": "_0fK9g-W2dO_"
      },
      "source": [
        "# 8.2.2 EditedNearestNeighbours - RANDOM FOREST"
      ]
    },
    {
      "cell_type": "code",
      "execution_count": null,
      "metadata": {
        "colab": {
          "base_uri": "https://localhost:8080/"
        },
        "id": "Pzo-OGSg2nLv",
        "outputId": "e5c44d72-f702-437a-e9be-9762ab7a5a7e"
      },
      "outputs": [
        {
          "name": "stdout",
          "output_type": "stream",
          "text": [
            "CPU times: user 52min 3s, sys: 165 ms, total: 52min 3s\n",
            "Wall time: 1min 20s\n"
          ]
        }
      ],
      "source": [
        "#modelo\n",
        "%%time\n",
        "from sklearn.ensemble import RandomForestClassifier\n",
        "modelo = RandomForestClassifier(n_estimators=1000, random_state=13, n_jobs=-1)\n",
        "modelo = modelo.fit(X_treino_bal, y_treino_bal)"
      ]
    },
    {
      "cell_type": "code",
      "execution_count": null,
      "metadata": {
        "colab": {
          "base_uri": "https://localhost:8080/"
        },
        "id": "YC2fP67n2ppZ",
        "outputId": "7b2d418a-ef9a-41cb-fd52-2d2b2a27d57b"
      },
      "outputs": [
        {
          "data": {
            "text/plain": [
              "0.0199480851908641"
            ]
          },
          "execution_count": 410,
          "metadata": {},
          "output_type": "execute_result"
        }
      ],
      "source": [
        "#predição\n",
        "y_pred = modelo.predict(X_teste)\n",
        "\n",
        "#erro médio - raíz quadrada\n",
        "\n",
        "np.sqrt(mean_squared_error(y_teste, y_pred))"
      ]
    },
    {
      "cell_type": "code",
      "execution_count": null,
      "metadata": {
        "colab": {
          "base_uri": "https://localhost:8080/",
          "height": 295
        },
        "id": "8NNlOPwl2rJP",
        "outputId": "a64a4817-ef3d-429e-a475-3bda0a5d4c8d"
      },
      "outputs": [
        {
          "data": {
            "image/png": "[encoded data removed]",
            "text/plain": [
              "<Figure size 432x288 with 2 Axes>"
            ]
          },
          "metadata": {},
          "output_type": "display_data"
        }
      ],
      "source": [
        "#matriz de confusão\n",
        "from sklearn.metrics import confusion_matrix, ConfusionMatrixDisplay\n",
        "cfm = confusion_matrix(y_teste, y_pred)\n",
        "ax= plt.subplot()\n",
        "sns.heatmap(cfm, cmap=\"Reds\", annot=True, fmt='g', ax=ax);\n",
        "ax.xaxis.set_ticklabels(['Não Fraude', 'Fraude']); ax.yaxis.set_ticklabels(['Não Fraude', 'Fraude'])\n",
        "plt.title('Matriz de Confusão')\n",
        "plt.xlabel('Valores Previstos')\n",
        "plt.ylabel ('Valores Reais') \n",
        "plt.show()"
      ]
    },
    {
      "cell_type": "code",
      "execution_count": null,
      "metadata": {
        "colab": {
          "base_uri": "https://localhost:8080/"
        },
        "id": "AGjrRKy-2tUa",
        "outputId": "ccd77562-f415-484f-dc0b-3c0e06a94cf1"
      },
      "outputs": [
        {
          "name": "stdout",
          "output_type": "stream",
          "text": [
            "0.999602073897218\n"
          ]
        }
      ],
      "source": [
        "#acurácia\n",
        "print(accuracy_score(y_teste, y_pred))"
      ]
    },
    {
      "cell_type": "code",
      "execution_count": null,
      "metadata": {
        "colab": {
          "base_uri": "https://localhost:8080/"
        },
        "id": "hqgbZx0l2vwC",
        "outputId": "af837253-8c43-41d8-d586-535158c9d6b6"
      },
      "outputs": [
        {
          "name": "stdout",
          "output_type": "stream",
          "text": [
            "Classification metrics: \n",
            "               precision    recall  f1-score   support\n",
            "\n",
            "           0       1.00      1.00      1.00     85307\n",
            "           1       0.98      0.76      0.86       136\n",
            "\n",
            "    accuracy                           1.00     85443\n",
            "   macro avg       0.99      0.88      0.93     85443\n",
            "weighted avg       1.00      1.00      1.00     85443\n",
            "\n"
          ]
        }
      ],
      "source": [
        "#outras métricas\n",
        "print('Classification metrics: \\n', classification_report(y_teste, y_pred))"
      ]
    },
    {
      "cell_type": "code",
      "execution_count": null,
      "metadata": {
        "colab": {
          "base_uri": "https://localhost:8080/",
          "height": 313
        },
        "id": "di-xu3mT2xoP",
        "outputId": "24a59563-e9d5-4a53-dbdd-919ae7845bc3"
      },
      "outputs": [
        {
          "name": "stdout",
          "output_type": "stream",
          "text": [
            "0.8823412188090213\n"
          ]
        },
        {
          "data": {
            "image/png": "[encoded data removed]",
            "text/plain": [
              "<Figure size 432x288 with 1 Axes>"
            ]
          },
          "metadata": {},
          "output_type": "display_data"
        }
      ],
      "source": [
        "# CURVA ROC\n",
        "print(roc_auc_score(y_teste, y_pred))\n",
        "def plot_roc_curve(fper, tper):\n",
        "    plt.plot(fper, tper, color='red', label='ROC')\n",
        "    plt.plot([0, 1], [0, 1], color='blue', linestyle='--')\n",
        "    plt.xlabel('Taxa de Falsos Positivos')\n",
        "    plt.ylabel('Taxa de Verdadeiros Positivos')\n",
        "    plt.title('Curva ROC')\n",
        "    plt.legend()\n",
        "    plt.show()\n",
        "\n",
        "fper, tper, thresholds = roc_curve(y_teste, y_pred)\n",
        "plot_roc_curve(fper, tper)"
      ]
    },
    {
      "cell_type": "markdown",
      "metadata": {
        "id": "odA-e1cc40zg"
      },
      "source": [
        "# 8.3 TomekLinks"
      ]
    },
    {
      "cell_type": "code",
      "execution_count": null,
      "metadata": {
        "colab": {
          "base_uri": "https://localhost:8080/"
        },
        "id": "7OSlqtGjpUEK",
        "outputId": "8958244c-7868-444f-ad53-bfbbb843b121"
      },
      "outputs": [
        {
          "name": "stdout",
          "output_type": "stream",
          "text": [
            "0    199008\n",
            "1       356\n",
            "Name: Class, dtype: int64\n",
            "0    85307\n",
            "1      136\n",
            "Name: Class, dtype: int64\n",
            "0    198949\n",
            "1       356\n",
            "Name: Class, dtype: int64\n",
            "CPU times: user 39min 18s, sys: 1h 42min 4s, total: 2h 21min 23s\n",
            "Wall time: 15min 48s\n"
          ]
        }
      ],
      "source": [
        "#balanceamento da base de treino\n",
        "%%time\n",
        "from imblearn.under_sampling import TomekLinks\n",
        "from sklearn.utils import resample\n",
        "print(y_treino.value_counts()) # verificação do X_treino antes da técnica\n",
        "print(y_teste.value_counts()) # verificação do y_teste\n",
        "bal = TomekLinks(n_jobs=-1)\n",
        "X_treino_bal, y_treino_bal = bal.fit_resample(X_treino, y_treino)\n",
        "print(y_treino_bal.value_counts())#treino após a técnica"
      ]
    },
    {
      "cell_type": "markdown",
      "metadata": {
        "id": "KE32n3Wf3G_D"
      },
      "source": [
        "# 8.3.1 TomekLinks - ÁRVORE DE DECISÃO"
      ]
    },
    {
      "cell_type": "code",
      "execution_count": null,
      "metadata": {
        "colab": {
          "base_uri": "https://localhost:8080/"
        },
        "id": "oUWfEiFF4TJ6",
        "outputId": "6405434c-91a4-46cf-daf4-b0d70afdb16a"
      },
      "outputs": [
        {
          "name": "stdout",
          "output_type": "stream",
          "text": [
            "22\n"
          ]
        }
      ],
      "source": [
        "#modelo\n",
        "from sklearn.tree import DecisionTreeClassifier, plot_tree\n",
        "modelo = DecisionTreeClassifier(random_state=13)\n",
        "modelo = modelo.fit(X_treino_bal, y_treino_bal)\n",
        "print(modelo.get_depth())"
      ]
    },
    {
      "cell_type": "code",
      "execution_count": null,
      "metadata": {
        "colab": {
          "base_uri": "https://localhost:8080/"
        },
        "id": "qxnINBZk4W6w",
        "outputId": "9160e68a-9051-42ca-b3e8-a7a3a00665ca"
      },
      "outputs": [
        {
          "data": {
            "text/plain": [
              "0.02736854709228341"
            ]
          },
          "execution_count": 417,
          "metadata": {},
          "output_type": "execute_result"
        }
      ],
      "source": [
        "#predição\n",
        "y_pred = modelo.predict(X_teste)\n",
        "\n",
        "#erro médio - raíz quadrada\n",
        "np.sqrt(mean_squared_error(y_teste, y_pred))"
      ]
    },
    {
      "cell_type": "code",
      "execution_count": null,
      "metadata": {
        "colab": {
          "base_uri": "https://localhost:8080/",
          "height": 295
        },
        "id": "nv_xEBNI4Xke",
        "outputId": "0e304291-4e6a-4964-ee38-82130e9f472e"
      },
      "outputs": [
        {
          "data": {
            "image/png": "[encoded data removed]",
            "text/plain": [
              "<Figure size 432x288 with 2 Axes>"
            ]
          },
          "metadata": {},
          "output_type": "display_data"
        }
      ],
      "source": [
        "#matriz de confusão\n",
        "from sklearn.metrics import confusion_matrix, ConfusionMatrixDisplay\n",
        "cfm = confusion_matrix(y_teste, y_pred)\n",
        "ax= plt.subplot()\n",
        "sns.heatmap(cfm, cmap=\"Reds\", annot=True, fmt='g', ax=ax);\n",
        "ax.xaxis.set_ticklabels(['Não Fraude', 'Fraude']); ax.yaxis.set_ticklabels(['Não Fraude', 'Fraude'])\n",
        "plt.title('Matriz de Confusão')\n",
        "plt.xlabel('Valores Previstos')\n",
        "plt.ylabel ('Valores Reais') \n",
        "plt.show()"
      ]
    },
    {
      "cell_type": "code",
      "execution_count": null,
      "metadata": {
        "colab": {
          "base_uri": "https://localhost:8080/"
        },
        "id": "PRNZ7P244klX",
        "outputId": "41ed712f-2081-4e67-b029-e4e5e15423d5"
      },
      "outputs": [
        {
          "name": "stdout",
          "output_type": "stream",
          "text": [
            "0.9992509626300574\n"
          ]
        }
      ],
      "source": [
        "#acurácia\n",
        "print(accuracy_score(y_teste, y_pred))"
      ]
    },
    {
      "cell_type": "code",
      "execution_count": null,
      "metadata": {
        "colab": {
          "base_uri": "https://localhost:8080/"
        },
        "id": "z_nTqhA94llo",
        "outputId": "187044d3-2fad-4a5c-aacf-b56c9a8c7eb5"
      },
      "outputs": [
        {
          "name": "stdout",
          "output_type": "stream",
          "text": [
            "Classification metrics: \n",
            "               precision    recall  f1-score   support\n",
            "\n",
            "           0       1.00      1.00      1.00     85307\n",
            "           1       0.78      0.74      0.76       136\n",
            "\n",
            "    accuracy                           1.00     85443\n",
            "   macro avg       0.89      0.87      0.88     85443\n",
            "weighted avg       1.00      1.00      1.00     85443\n",
            "\n"
          ]
        }
      ],
      "source": [
        "#outras métricas\n",
        "print('Classification metrics: \\n', classification_report(y_teste, y_pred))"
      ]
    },
    {
      "cell_type": "code",
      "execution_count": null,
      "metadata": {
        "colab": {
          "base_uri": "https://localhost:8080/",
          "height": 313
        },
        "id": "fmumZLq7BqnL",
        "outputId": "13a894a0-b888-437a-950f-88e63787abf5"
      },
      "outputs": [
        {
          "name": "stdout",
          "output_type": "stream",
          "text": [
            "0.8674829456792389\n"
          ]
        },
        {
          "data": {
            "image/png": "[encoded data removed]",
            "text/plain": [
              "<Figure size 432x288 with 1 Axes>"
            ]
          },
          "metadata": {},
          "output_type": "display_data"
        }
      ],
      "source": [
        "# CURVA ROC\n",
        "print(roc_auc_score(y_teste, y_pred))\n",
        "def plot_roc_curve(fper, tper):\n",
        "    plt.plot(fper, tper, color='red', label='ROC')\n",
        "    plt.plot([0, 1], [0, 1], color='blue', linestyle='--')\n",
        "    plt.xlabel('Taxa de Falsos Positivos')\n",
        "    plt.ylabel('Taxa de Verdadeiros Positivos')\n",
        "    plt.title('Curva ROC')\n",
        "    plt.legend()\n",
        "    plt.show()\n",
        "\n",
        "fper, tper, thresholds = roc_curve(y_teste, y_pred)\n",
        "plot_roc_curve(fper, tper)"
      ]
    },
    {
      "cell_type": "markdown",
      "metadata": {
        "id": "-KLj100r3U9_"
      },
      "source": [
        "# 8.3.2 TomekLinks - RANDOM FOREST"
      ]
    },
    {
      "cell_type": "code",
      "execution_count": null,
      "metadata": {
        "colab": {
          "base_uri": "https://localhost:8080/"
        },
        "id": "bPgAn1Zc3c63",
        "outputId": "9de5bc00-6fd8-44e5-e443-90fcf501a79d"
      },
      "outputs": [
        {
          "name": "stdout",
          "output_type": "stream",
          "text": [
            "CPU times: user 51min 37s, sys: 139 ms, total: 51min 37s\n",
            "Wall time: 1min 19s\n"
          ]
        }
      ],
      "source": [
        "#modelo\n",
        "%%time\n",
        "from sklearn.ensemble import RandomForestClassifier\n",
        "modelo = RandomForestClassifier(n_estimators=1000, random_state=13, n_jobs=-1)\n",
        "modelo = modelo.fit(X_treino_bal, y_treino_bal)"
      ]
    },
    {
      "cell_type": "code",
      "execution_count": null,
      "metadata": {
        "colab": {
          "base_uri": "https://localhost:8080/"
        },
        "id": "n-3exGYC3gH3",
        "outputId": "df476e44-9399-4f84-d153-2e1234ff9484"
      },
      "outputs": [
        {
          "data": {
            "text/plain": [
              "0.02080954659520548"
            ]
          },
          "execution_count": 423,
          "metadata": {},
          "output_type": "execute_result"
        }
      ],
      "source": [
        "#predição\n",
        "y_pred = modelo.predict(X_teste)\n",
        "\n",
        "#erro médio - raíz quadrada\n",
        "np.sqrt(mean_squared_error(y_teste, y_pred))"
      ]
    },
    {
      "cell_type": "code",
      "execution_count": null,
      "metadata": {
        "colab": {
          "base_uri": "https://localhost:8080/",
          "height": 295
        },
        "id": "YFsLWffD3iCn",
        "outputId": "c26b6700-bbb7-4867-df34-9de1b691f7d1"
      },
      "outputs": [
        {
          "data": {
            "image/png": "[encoded data removed]",
            "text/plain": [
              "<Figure size 432x288 with 2 Axes>"
            ]
          },
          "metadata": {},
          "output_type": "display_data"
        }
      ],
      "source": [
        "#matriz de confusão\n",
        "from sklearn.metrics import confusion_matrix, ConfusionMatrixDisplay\n",
        "cfm = confusion_matrix(y_teste, y_pred)\n",
        "ax= plt.subplot()\n",
        "sns.heatmap(cfm, cmap=\"Reds\", annot=True, fmt='g', ax=ax);\n",
        "ax.xaxis.set_ticklabels(['Não Fraude', 'Fraude']); ax.yaxis.set_ticklabels(['Não Fraude', 'Fraude'])\n",
        "plt.title('Matriz de Confusão')\n",
        "plt.xlabel('Valores Previstos')\n",
        "plt.ylabel ('Valores Reais') \n",
        "plt.show()"
      ]
    },
    {
      "cell_type": "code",
      "execution_count": null,
      "metadata": {
        "colab": {
          "base_uri": "https://localhost:8080/"
        },
        "id": "jQ_Vw1H63kl3",
        "outputId": "68ee4b20-f4db-44f6-8e97-6bdb8574a5b9"
      },
      "outputs": [
        {
          "name": "stdout",
          "output_type": "stream",
          "text": [
            "0.9995669627705019\n"
          ]
        }
      ],
      "source": [
        "#acurácia\n",
        "print(accuracy_score(y_teste, y_pred))"
      ]
    },
    {
      "cell_type": "code",
      "execution_count": null,
      "metadata": {
        "colab": {
          "base_uri": "https://localhost:8080/"
        },
        "id": "O12AOaeA3m1f",
        "outputId": "97d24369-1c4d-499b-dfd4-d721246d63ee"
      },
      "outputs": [
        {
          "name": "stdout",
          "output_type": "stream",
          "text": [
            "Classification metrics: \n",
            "               precision    recall  f1-score   support\n",
            "\n",
            "           0       1.00      1.00      1.00     85307\n",
            "           1       0.96      0.76      0.85       136\n",
            "\n",
            "    accuracy                           1.00     85443\n",
            "   macro avg       0.98      0.88      0.92     85443\n",
            "weighted avg       1.00      1.00      1.00     85443\n",
            "\n"
          ]
        }
      ],
      "source": [
        "#outras métricas\n",
        "print('Classification metrics: \\n', classification_report(y_teste, y_pred))"
      ]
    },
    {
      "cell_type": "code",
      "execution_count": null,
      "metadata": {
        "colab": {
          "base_uri": "https://localhost:8080/",
          "height": 313
        },
        "id": "qCAIa5Qc5nIs",
        "outputId": "e540887c-d5b6-4aeb-b3a6-9a389ec5d8b5"
      },
      "outputs": [
        {
          "name": "stdout",
          "output_type": "stream",
          "text": [
            "0.8786530258533366\n"
          ]
        },
        {
          "data": {
            "image/png": "[encoded data removed]",
            "text/plain": [
              "<Figure size 432x288 with 1 Axes>"
            ]
          },
          "metadata": {},
          "output_type": "display_data"
        }
      ],
      "source": [
        "# CURVA ROC\n",
        "print(roc_auc_score(y_teste, y_pred))\n",
        "def plot_roc_curve(fper, tper):\n",
        "    plt.plot(fper, tper, color='red', label='ROC')\n",
        "    plt.plot([0, 1], [0, 1], color='blue', linestyle='--')\n",
        "    plt.xlabel('Taxa de Falsos Positivos')\n",
        "    plt.ylabel('Taxa de Verdadeiros Positivos')\n",
        "    plt.title('Curva ROC')\n",
        "    plt.legend()\n",
        "    plt.show()\n",
        "\n",
        "fper, tper, thresholds = roc_curve(y_teste, y_pred)\n",
        "plot_roc_curve(fper, tper)"
      ]
    },
    {
      "cell_type": "markdown",
      "metadata": {
        "id": "d12sp1TWqH_A"
      },
      "source": [
        "# 9. COMBINAÇÃO DE MÉTODOS OVER E UNDER-SAMPLING"
      ]
    },
    {
      "cell_type": "markdown",
      "metadata": {
        "id": "P8_lMrX-q6nJ"
      },
      "source": [
        "# 9.1  SMOTEENN"
      ]
    },
    {
      "cell_type": "code",
      "execution_count": null,
      "metadata": {
        "colab": {
          "background_save": true,
          "base_uri": "https://localhost:8080/"
        },
        "id": "9e9NBseeq9ZQ",
        "outputId": "e2f49fa4-7425-4c95-de2e-8c2c868adfce"
      },
      "outputs": [
        {
          "name": "stdout",
          "output_type": "stream",
          "text": [
            "0    199008\n",
            "1       356\n",
            "Name: Class, dtype: int64\n",
            "0    85307\n",
            "1      136\n",
            "Name: Class, dtype: int64\n",
            "1    190114\n",
            "0    181651\n",
            "Name: Class, dtype: int64\n",
            "CPU times: user 3h 10min 36s, sys: 6h 35min 56s, total: 9h 46min 33s\n",
            "Wall time: 1h 35min\n"
          ]
        }
      ],
      "source": [
        "#balanceamento da base de treino\n",
        "%%time\n",
        "from sklearn.datasets import make_classification\n",
        "from imblearn.combine import SMOTEENN\n",
        "\n",
        "print(y_treino.value_counts()) # verificação do X_treino antes da técnica\n",
        "print(y_teste.value_counts()) # verificação do y_teste\n",
        "bal = SMOTEENN(random_state=13, n_jobs=-1)\n",
        "X_treino_bal, y_treino_bal = bal.fit_resample(X_treino, y_treino)\n",
        "print(y_treino_bal.value_counts())#treino após a técnica"
      ]
    },
    {
      "cell_type": "markdown",
      "metadata": {
        "id": "11ba-XR-30sH"
      },
      "source": [
        "#9.1.1 - SMOTEENN - ÁRVORE DE DECISÃO"
      ]
    },
    {
      "cell_type": "code",
      "execution_count": null,
      "metadata": {
        "colab": {
          "background_save": true
        },
        "id": "f5R0lH4MrOr4",
        "outputId": "d1174f74-4068-48c2-99fe-d4d33645eed0"
      },
      "outputs": [
        {
          "name": "stdout",
          "output_type": "stream",
          "text": [
            "35\n"
          ]
        }
      ],
      "source": [
        "#modelo\n",
        "from sklearn.tree import DecisionTreeClassifier, plot_tree\n",
        "modelo = DecisionTreeClassifier(random_state=13)\n",
        "modelo = modelo.fit(X_treino_bal, y_treino_bal)\n",
        "print(modelo.get_depth())"
      ]
    },
    {
      "cell_type": "code",
      "execution_count": null,
      "metadata": {
        "colab": {
          "background_save": true
        },
        "id": "RQn3KxoirRfX",
        "outputId": "c2bc0591-ab53-475e-bd04-63f6bbd61fc2"
      },
      "outputs": [
        {
          "data": {
            "text/plain": [
              "0.045898448807812436"
            ]
          },
          "execution_count": 430,
          "metadata": {},
          "output_type": "execute_result"
        }
      ],
      "source": [
        "#predição\n",
        "y_pred = modelo.predict(X_teste)\n",
        "\n",
        "#erro médio - raíz quadrada\n",
        "\n",
        "np.sqrt(mean_squared_error(y_teste, y_pred))"
      ]
    },
    {
      "cell_type": "code",
      "execution_count": null,
      "metadata": {
        "colab": {
          "background_save": true
        },
        "id": "_LpoQtOUrZCH",
        "outputId": "15d607db-999d-44a3-e6b3-da844722452d"
      },
      "outputs": [
        {
          "data": {
            "image/png": "[encoded data removed]",
            "text/plain": [
              "<Figure size 432x288 with 2 Axes>"
            ]
          },
          "metadata": {},
          "output_type": "display_data"
        }
      ],
      "source": [
        "#matriz de confusão\n",
        "from sklearn.metrics import confusion_matrix, ConfusionMatrixDisplay\n",
        "cfm = confusion_matrix(y_teste, y_pred)\n",
        "ax= plt.subplot()\n",
        "sns.heatmap(cfm, cmap=\"Reds\", annot=True, fmt='g', ax=ax);\n",
        "ax.xaxis.set_ticklabels(['Não Fraude', 'Fraude']); ax.yaxis.set_ticklabels(['Não Fraude', 'Fraude'])\n",
        "plt.title('Matriz de Confusão')\n",
        "plt.xlabel('Valores Previstos')\n",
        "plt.ylabel ('Valores Reais') \n",
        "plt.show()"
      ]
    },
    {
      "cell_type": "code",
      "execution_count": null,
      "metadata": {
        "colab": {
          "background_save": true
        },
        "id": "4gWXZC2KtuPY",
        "outputId": "81b4ce55-d20b-4fee-a266-6af2092d19a4"
      },
      "outputs": [
        {
          "name": "stdout",
          "output_type": "stream",
          "text": [
            "0.9978933323970366\n"
          ]
        }
      ],
      "source": [
        "#acurácia\n",
        "print(accuracy_score(y_teste, y_pred))"
      ]
    },
    {
      "cell_type": "code",
      "execution_count": null,
      "metadata": {
        "colab": {
          "background_save": true
        },
        "id": "ATnhDok4rcBH",
        "outputId": "bff7f9a7-a8e1-4259-8cc6-b9bbe58797de"
      },
      "outputs": [
        {
          "name": "stdout",
          "output_type": "stream",
          "text": [
            "Classification metrics: \n",
            "               precision    recall  f1-score   support\n",
            "\n",
            "           0       1.00      1.00      1.00     85307\n",
            "           1       0.41      0.79      0.54       136\n",
            "\n",
            "    accuracy                           1.00     85443\n",
            "   macro avg       0.71      0.89      0.77     85443\n",
            "weighted avg       1.00      1.00      1.00     85443\n",
            "\n"
          ]
        }
      ],
      "source": [
        "#outras métricas\n",
        "print('Classification metrics: \\n', classification_report(y_teste, y_pred))"
      ]
    },
    {
      "cell_type": "code",
      "execution_count": null,
      "metadata": {
        "colab": {
          "background_save": true
        },
        "id": "PjTTioDPBsvZ",
        "outputId": "ffa8640f-247f-411d-9154-cc360bb5afe2"
      },
      "outputs": [
        {
          "name": "stdout",
          "output_type": "stream",
          "text": [
            "0.892497314198752\n"
          ]
        },
        {
          "data": {
            "image/png": "[encoded data removed]",
            "text/plain": [
              "<Figure size 432x288 with 1 Axes>"
            ]
          },
          "metadata": {},
          "output_type": "display_data"
        }
      ],
      "source": [
        "# CURVA ROC\n",
        "print(roc_auc_score(y_teste, y_pred))\n",
        "def plot_roc_curve(fper, tper):\n",
        "    plt.plot(fper, tper, color='red', label='ROC')\n",
        "    plt.plot([0, 1], [0, 1], color='blue', linestyle='--')\n",
        "    plt.xlabel('Taxa de Falsos Positivos')\n",
        "    plt.ylabel('Taxa de Verdadeiros Positivos')\n",
        "    plt.title('Curva ROC')\n",
        "    plt.legend()\n",
        "    plt.show()\n",
        "\n",
        "fper, tper, thresholds = roc_curve(y_teste, y_pred)\n",
        "plot_roc_curve(fper, tper)"
      ]
    },
    {
      "cell_type": "markdown",
      "metadata": {
        "id": "lUQv6ucs4IxQ"
      },
      "source": [
        "# 9.1.2 - SMOTEENN - RANDOM FOREST"
      ]
    },
    {
      "cell_type": "code",
      "execution_count": null,
      "metadata": {
        "colab": {
          "background_save": true
        },
        "id": "UZ-RqTK94MHO",
        "outputId": "ebeee7c5-106b-4d65-cbd1-3fea77fe977c"
      },
      "outputs": [
        {
          "name": "stdout",
          "output_type": "stream",
          "text": [
            "CPU times: user 1h 26min 37s, sys: 51.6 ms, total: 1h 26min 37s\n",
            "Wall time: 2min 12s\n"
          ]
        }
      ],
      "source": [
        "#modelo\n",
        "%%time\n",
        "from sklearn.ensemble import RandomForestClassifier\n",
        "modelo = RandomForestClassifier(n_estimators=1000, random_state=13, n_jobs=-1)\n",
        "modelo = modelo.fit(X_treino_bal, y_treino_bal)"
      ]
    },
    {
      "cell_type": "code",
      "execution_count": null,
      "metadata": {
        "colab": {
          "background_save": true
        },
        "id": "67INAlLj4aNY",
        "outputId": "f21238a1-dbea-494f-c43d-8cf716c9af2f"
      },
      "outputs": [
        {
          "data": {
            "text/plain": [
              "0.022433445632139094"
            ]
          },
          "execution_count": 436,
          "metadata": {},
          "output_type": "execute_result"
        }
      ],
      "source": [
        "#predição\n",
        "y_pred = modelo.predict(X_teste)\n",
        "\n",
        "#erro médio - raíz quadrada\n",
        "\n",
        "np.sqrt(mean_squared_error(y_teste, y_pred))"
      ]
    },
    {
      "cell_type": "code",
      "execution_count": null,
      "metadata": {
        "colab": {
          "background_save": true
        },
        "id": "DymyuPlP4ct-",
        "outputId": "1f73ee60-e2d6-43a5-d90d-bcd740c9a66e"
      },
      "outputs": [
        {
          "data": {
            "image/png": "[encoded data removed]",
            "text/plain": [
              "<Figure size 432x288 with 2 Axes>"
            ]
          },
          "metadata": {},
          "output_type": "display_data"
        }
      ],
      "source": [
        "#matriz de confusão\n",
        "from sklearn.metrics import confusion_matrix, ConfusionMatrixDisplay\n",
        "cfm = confusion_matrix(y_teste, y_pred)\n",
        "ax= plt.subplot()\n",
        "sns.heatmap(cfm, cmap=\"Reds\", annot=True, fmt='g', ax=ax);\n",
        "ax.xaxis.set_ticklabels(['Não Fraude', 'Fraude']); ax.yaxis.set_ticklabels(['Não Fraude', 'Fraude'])\n",
        "plt.title('Matriz de Confusão')\n",
        "plt.xlabel('Valores Previstos')\n",
        "plt.ylabel ('Valores Reais') \n",
        "plt.show()"
      ]
    },
    {
      "cell_type": "code",
      "execution_count": null,
      "metadata": {
        "colab": {
          "background_save": true
        },
        "id": "MBoChtks4gQu",
        "outputId": "6f4372b5-d897-406e-f1b3-782d96b6be83"
      },
      "outputs": [
        {
          "name": "stdout",
          "output_type": "stream",
          "text": [
            "0.9994967405170698\n"
          ]
        }
      ],
      "source": [
        "#acurácia\n",
        "print(accuracy_score(y_teste, y_pred))"
      ]
    },
    {
      "cell_type": "code",
      "execution_count": null,
      "metadata": {
        "colab": {
          "background_save": true
        },
        "id": "_sLG5kjR4ijG",
        "outputId": "2fa90803-2ed7-4c47-91c4-d304b8836c47"
      },
      "outputs": [
        {
          "name": "stdout",
          "output_type": "stream",
          "text": [
            "Classification metrics: \n",
            "               precision    recall  f1-score   support\n",
            "\n",
            "           0       1.00      1.00      1.00     85307\n",
            "           1       0.85      0.82      0.84       136\n",
            "\n",
            "    accuracy                           1.00     85443\n",
            "   macro avg       0.93      0.91      0.92     85443\n",
            "weighted avg       1.00      1.00      1.00     85443\n",
            "\n"
          ]
        }
      ],
      "source": [
        "#outras métricas\n",
        "print('Classification metrics: \\n', classification_report(y_teste, y_pred))"
      ]
    },
    {
      "cell_type": "code",
      "execution_count": null,
      "metadata": {
        "colab": {
          "background_save": true
        },
        "id": "zRcO8bTJ4k92",
        "outputId": "466c7ad5-2c5b-4a8b-8cbd-411caf91f9d2"
      },
      "outputs": [
        {
          "name": "stdout",
          "output_type": "stream",
          "text": [
            "0.9116533433915842\n"
          ]
        },
        {
          "data": {
            "image/png": "[encoded data removed]",
            "text/plain": [
              "<Figure size 432x288 with 1 Axes>"
            ]
          },
          "metadata": {},
          "output_type": "display_data"
        }
      ],
      "source": [
        "# CURVA ROC\n",
        "print(roc_auc_score(y_teste, y_pred))\n",
        "def plot_roc_curve(fper, tper):\n",
        "    plt.plot(fper, tper, color='red', label='ROC')\n",
        "    plt.plot([0, 1], [0, 1], color='blue', linestyle='--')\n",
        "    plt.xlabel('Taxa de Falsos Positivos')\n",
        "    plt.ylabel('Taxa de Verdadeiros Positivos')\n",
        "    plt.title('Curva ROC')\n",
        "    plt.legend()\n",
        "    plt.show()\n",
        "\n",
        "fper, tper, thresholds = roc_curve(y_teste, y_pred)\n",
        "plot_roc_curve(fper, tper)"
      ]
    },
    {
      "cell_type": "markdown",
      "metadata": {
        "id": "MUSWXIsOyrfz"
      },
      "source": [
        "# 9.2 SMOTETomek"
      ]
    },
    {
      "cell_type": "code",
      "execution_count": null,
      "metadata": {
        "colab": {
          "base_uri": "https://localhost:8080/"
        },
        "id": "KUCP-boc0aSK",
        "outputId": "d17a9571-2a86-4d66-db25-56946bf78f50"
      },
      "outputs": [
        {
          "output_type": "stream",
          "name": "stdout",
          "text": [
            "0    199008\n",
            "1       356\n",
            "Name: Class, dtype: int64\n",
            "0    85307\n",
            "1      136\n",
            "Name: Class, dtype: int64\n",
            "0    198257\n",
            "1    198257\n",
            "Name: Class, dtype: int64\n",
            "CPU times: user 1h 26min 33s, sys: 1h 24min 25s, total: 2h 50min 59s\n",
            "Wall time: 27min 3s\n"
          ]
        }
      ],
      "source": [
        "#balanceamento da base de treino\n",
        "%%time\n",
        "from sklearn.datasets import make_classification\n",
        "from imblearn.combine import SMOTETomek\n",
        "print(y_treino.value_counts()) # verificação do X_treino antes da técnica\n",
        "print(y_teste.value_counts()) # verificação do y_teste\n",
        "bal = SMOTETomek(random_state=13)\n",
        "X_treino_bal, y_treino_bal = bal.fit_resample(X_treino, y_treino)\n",
        "print(y_treino_bal.value_counts())#treino após a técnica"
      ]
    },
    {
      "cell_type": "markdown",
      "metadata": {
        "id": "MXlaCa7q4wQn"
      },
      "source": [
        "# 9.2 SMOTETomek - ÁRVORE DE DECISÃO"
      ]
    },
    {
      "cell_type": "code",
      "execution_count": null,
      "metadata": {
        "colab": {
          "base_uri": "https://localhost:8080/"
        },
        "id": "oman0v9b0nHa",
        "outputId": "744f7b41-9baa-49d1-cadf-51d9c74636a0"
      },
      "outputs": [
        {
          "output_type": "stream",
          "name": "stdout",
          "text": [
            "35\n"
          ]
        }
      ],
      "source": [
        "#modelo\n",
        "from sklearn.tree import DecisionTreeClassifier, plot_tree\n",
        "modelo = DecisionTreeClassifier(random_state=13)\n",
        "modelo = modelo.fit(X_treino_bal, y_treino_bal)\n",
        "print(modelo.get_depth())"
      ]
    },
    {
      "cell_type": "code",
      "execution_count": null,
      "metadata": {
        "colab": {
          "base_uri": "https://localhost:8080/"
        },
        "id": "xdjjLk2F0s1B",
        "outputId": "9558c806-04db-4fbc-e84b-8dea9b0c754c"
      },
      "outputs": [
        {
          "output_type": "execute_result",
          "data": {
            "text/plain": [
              "0.04690732644487635"
            ]
          },
          "metadata": {},
          "execution_count": 16
        }
      ],
      "source": [
        "#predição\n",
        "y_pred = modelo.predict(X_teste)\n",
        "\n",
        "#erro médio - raíz quadrada\n",
        "\n",
        "np.sqrt(mean_squared_error(y_teste, y_pred))"
      ]
    },
    {
      "cell_type": "code",
      "execution_count": null,
      "metadata": {
        "colab": {
          "base_uri": "https://localhost:8080/",
          "height": 295
        },
        "id": "qOThqurG0t7I",
        "outputId": "d68398d7-1a3c-4399-a171-9e37f9e33c34"
      },
      "outputs": [
        {
          "output_type": "display_data",
          "data": {
            "text/plain": [
              "<Figure size 432x288 with 2 Axes>"
            ],
            "image/png": "[encoded data removed]"
          },
          "metadata": {
            "needs_background": "light"
          }
        }
      ],
      "source": [
        "#matriz de confusão\n",
        "from sklearn.metrics import confusion_matrix, ConfusionMatrixDisplay\n",
        "cfm = confusion_matrix(y_teste, y_pred)\n",
        "ax= plt.subplot()\n",
        "sns.heatmap(cfm, cmap=\"Reds\", annot=True, fmt='g', ax=ax);\n",
        "ax.xaxis.set_ticklabels(['Não Fraude', 'Fraude']); ax.yaxis.set_ticklabels(['Não Fraude', 'Fraude'])\n",
        "plt.title('Matriz de Confusão')\n",
        "plt.xlabel('Valores Previstos')\n",
        "plt.ylabel ('Valores Reais') \n",
        "plt.show()"
      ]
    },
    {
      "cell_type": "code",
      "execution_count": null,
      "metadata": {
        "colab": {
          "base_uri": "https://localhost:8080/"
        },
        "id": "ZYjUWuQW0wFy",
        "outputId": "cddedcb2-0f76-4ddb-9425-4c3c36de16a2"
      },
      "outputs": [
        {
          "output_type": "stream",
          "name": "stdout",
          "text": [
            "0.9977997027257938\n"
          ]
        }
      ],
      "source": [
        "#acurácia\n",
        "print(accuracy_score(y_teste, y_pred))"
      ]
    },
    {
      "cell_type": "code",
      "execution_count": null,
      "metadata": {
        "colab": {
          "base_uri": "https://localhost:8080/"
        },
        "id": "bDxCs83M0yuh",
        "outputId": "934c0b98-1f8e-4f31-a15a-93ef0ede7d0f"
      },
      "outputs": [
        {
          "output_type": "stream",
          "name": "stdout",
          "text": [
            "Classification metrics: \n",
            "               precision    recall  f1-score   support\n",
            "\n",
            "           0       1.00      1.00      1.00     85307\n",
            "           1       0.40      0.74      0.52       136\n",
            "\n",
            "    accuracy                           1.00     85443\n",
            "   macro avg       0.70      0.87      0.76     85443\n",
            "weighted avg       1.00      1.00      1.00     85443\n",
            "\n"
          ]
        }
      ],
      "source": [
        "#outras métricas\n",
        "print('Classification metrics: \\n', classification_report(y_teste, y_pred))"
      ]
    },
    {
      "cell_type": "code",
      "execution_count": null,
      "metadata": {
        "colab": {
          "base_uri": "https://localhost:8080/",
          "height": 313
        },
        "id": "DIIR4opLBvVR",
        "outputId": "cebb9fe8-e10f-4225-8746-266a5d7a790c"
      },
      "outputs": [
        {
          "output_type": "stream",
          "name": "stdout",
          "text": [
            "0.8704267683018909\n"
          ]
        },
        {
          "output_type": "display_data",
          "data": {
            "text/plain": [
              "<Figure size 432x288 with 1 Axes>"
            ],
            "image/png": "[encoded data removed]"
          },
          "metadata": {
            "needs_background": "light"
          }
        }
      ],
      "source": [
        "# CURVA ROC\n",
        "print(roc_auc_score(y_teste, y_pred))\n",
        "def plot_roc_curve(fper, tper):\n",
        "    plt.plot(fper, tper, color='red', label='ROC')\n",
        "    plt.plot([0, 1], [0, 1], color='blue', linestyle='--')\n",
        "    plt.xlabel('Taxa de Falsos Positivos')\n",
        "    plt.ylabel('Taxa de Verdadeiros Positivos')\n",
        "    plt.title('Curva ROC')\n",
        "    plt.legend()\n",
        "    plt.show()\n",
        "\n",
        "fper, tper, thresholds = roc_curve(y_teste, y_pred)\n",
        "plot_roc_curve(fper, tper)"
      ]
    },
    {
      "cell_type": "markdown",
      "metadata": {
        "id": "E0HJRxyQ50Ng"
      },
      "source": [
        "# 9.2.2 SMOTETomek - RANDOM FOREST"
      ]
    },
    {
      "cell_type": "code",
      "execution_count": null,
      "metadata": {
        "id": "XPPwks_uXZqM"
      },
      "outputs": [],
      "source": [
        "#modelo\n",
        "from sklearn.ensemble import RandomForestClassifier\n",
        "modelo = RandomForestClassifier(n_estimators=1000, random_state=13, n_jobs=-1)\n",
        "modelo = modelo.fit(X_treino_bal, y_treino_bal)"
      ]
    },
    {
      "cell_type": "code",
      "execution_count": null,
      "metadata": {
        "colab": {
          "base_uri": "https://localhost:8080/"
        },
        "id": "qlFtUxGQXaZL",
        "outputId": "c3a02fed-1994-4863-8476-42f9c0ce0fe4"
      },
      "outputs": [
        {
          "output_type": "execute_result",
          "data": {
            "text/plain": [
              "0.021088881867073465"
            ]
          },
          "metadata": {},
          "execution_count": 23
        }
      ],
      "source": [
        "#predição\n",
        "y_pred = modelo.predict(X_teste)\n",
        "\n",
        "#erro médio - raíz quadrada\n",
        "\n",
        "np.sqrt(mean_squared_error(y_teste, y_pred))"
      ]
    },
    {
      "cell_type": "code",
      "execution_count": null,
      "metadata": {
        "colab": {
          "base_uri": "https://localhost:8080/"
        },
        "id": "8WEFg5uQxsUE",
        "outputId": "e68a1c02-04b6-4454-fa12-e8d811a2cb8e"
      },
      "outputs": [
        {
          "output_type": "stream",
          "name": "stdout",
          "text": [
            "0.9995552590615966\n"
          ]
        }
      ],
      "source": [
        "#acurácia\n",
        "print(accuracy_score(y_teste, y_pred))"
      ]
    },
    {
      "cell_type": "code",
      "execution_count": null,
      "metadata": {
        "colab": {
          "base_uri": "https://localhost:8080/",
          "height": 295
        },
        "id": "1bE5azA_XcsD",
        "outputId": "f4e2ddf6-23b9-4a87-e3e5-9d42926063d7"
      },
      "outputs": [
        {
          "output_type": "display_data",
          "data": {
            "text/plain": [
              "<Figure size 432x288 with 2 Axes>"
            ],
            "image/png": "[encoded data removed]"
          },
          "metadata": {
            "needs_background": "light"
          }
        }
      ],
      "source": [
        "#matriz de confusão\n",
        "from sklearn.metrics import confusion_matrix, ConfusionMatrixDisplay\n",
        "cfm = confusion_matrix(y_teste, y_pred)\n",
        "ax= plt.subplot()\n",
        "sns.heatmap(cfm, cmap=\"Reds\", annot=True, fmt='g', ax=ax);\n",
        "ax.xaxis.set_ticklabels(['Não Fraude', 'Fraude']); ax.yaxis.set_ticklabels(['Não Fraude', 'Fraude'])\n",
        "plt.title('Matriz de Confusão')\n",
        "plt.xlabel('Valores Previstos')\n",
        "plt.ylabel ('Valores Reais') \n",
        "plt.show()"
      ]
    },
    {
      "cell_type": "code",
      "execution_count": null,
      "metadata": {
        "colab": {
          "base_uri": "https://localhost:8080/"
        },
        "id": "JMT2K3F_Xgsk",
        "outputId": "8c39bafb-5629-4703-8ad5-066f70163b37"
      },
      "outputs": [
        {
          "output_type": "stream",
          "name": "stdout",
          "text": [
            "0.9995552590615966\n"
          ]
        }
      ],
      "source": [
        "#acurácia\n",
        "print(accuracy_score(y_teste, y_pred))"
      ]
    },
    {
      "cell_type": "code",
      "execution_count": null,
      "metadata": {
        "colab": {
          "base_uri": "https://localhost:8080/"
        },
        "id": "_ycPW272Xiik",
        "outputId": "413ae6bf-2b10-4eb2-9e34-f4ff7469a92b"
      },
      "outputs": [
        {
          "output_type": "stream",
          "name": "stdout",
          "text": [
            "Classification metrics: \n",
            "               precision    recall  f1-score   support\n",
            "\n",
            "           0       1.00      1.00      1.00     85307\n",
            "           1       0.89      0.82      0.85       136\n",
            "\n",
            "    accuracy                           1.00     85443\n",
            "   macro avg       0.94      0.91      0.93     85443\n",
            "weighted avg       1.00      1.00      1.00     85443\n",
            "\n"
          ]
        }
      ],
      "source": [
        "#outras métricas\n",
        "print('Classification metrics: \\n', classification_report(y_teste, y_pred))"
      ]
    },
    {
      "cell_type": "code",
      "execution_count": null,
      "metadata": {
        "colab": {
          "base_uri": "https://localhost:8080/",
          "height": 313
        },
        "id": "oIWkpRvugN42",
        "outputId": "cd935939-0f70-4060-85e4-9773b1f96c08"
      },
      "outputs": [
        {
          "output_type": "stream",
          "name": "stdout",
          "text": [
            "0.9116826493102076\n"
          ]
        },
        {
          "output_type": "display_data",
          "data": {
            "text/plain": [
              "<Figure size 432x288 with 1 Axes>"
            ],
            "image/png": "[encoded data removed]"
          },
          "metadata": {
            "needs_background": "light"
          }
        }
      ],
      "source": [
        "# CURVA ROC\n",
        "print(roc_auc_score(y_teste, y_pred))\n",
        "def plot_roc_curve(fper, tper):\n",
        "    plt.plot(fper, tper, color='red', label='ROC')\n",
        "    plt.plot([0, 1], [0, 1], color='blue', linestyle='--')\n",
        "    plt.xlabel('Taxa de Falsos Positivos')\n",
        "    plt.ylabel('Taxa de Verdadeiros Positivos')\n",
        "    plt.title('Curva ROC')\n",
        "    plt.legend()\n",
        "    plt.show()\n",
        "\n",
        "fper, tper, thresholds = roc_curve(y_teste, y_pred)\n",
        "plot_roc_curve(fper, tper)\n"
      ]
    }
  ],
  "metadata": {
    "colab": {
      "provenance": []
    },
    "gpuClass": "premium",
    "kernelspec": {
      "display_name": "Python 3",
      "name": "python3"
    },
    "language_info": {
      "name": "python"
    }
  },
  "nbformat": 4,
  "nbformat_minor": 0
}